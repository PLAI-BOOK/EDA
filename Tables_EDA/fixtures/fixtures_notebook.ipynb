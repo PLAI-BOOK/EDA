{
 "cells": [
  {
   "cell_type": "code",
   "id": "initial_id",
   "metadata": {
    "collapsed": true,
    "ExecuteTime": {
     "end_time": "2024-11-28T12:26:32.644556Z",
     "start_time": "2024-11-28T12:26:32.574465Z"
    }
   },
   "source": [
    "# rerun if needed\n",
    "# %pip install pandas matplotlib seaborn\n",
    "\n",
    "import pandas as pd\n",
    "import matplotlib.pyplot as plt\n",
    "import matplotlib as mpl\n",
    "import seaborn as sns\n",
    "data = pd.read_csv('fixtures.csv')\n",
    "# all numeric columns\n",
    "numeric_data = data.select_dtypes(include='number')\n",
    "print(data.columns.tolist())"
   ],
   "outputs": [
    {
     "name": "stdout",
     "output_type": "stream",
     "text": [
      "['fixture_id', 'league_id', 'league_name', 'home_team_id', 'home_team_name', 'away_team_id', 'away_team_name', 'goals_half_time_home', 'goals_half_time_away', 'goals_full_time_home', 'goals_full_time_away', 'goals_extra_time_home', 'goals_extra_time_away', 'goals_penalty_home', 'goals_penalty_away', 'league_round', 'expected_goals_home', 'shots_on_goal_home', 'shots_off_goal_home', 'shots_insidebox_home', 'shots_outsidebox_home', 'total_shots_home', 'blocked_shots_home', 'fouls_home', 'corner_kicks_home', 'offsides_home', 'ball_possession_home', 'yellow_cards_home', 'red_cards_home', 'goalkeeper_saves_home', 'total_passes_home', 'passes_accurate_home', 'passes_percentage_home', 'expected_goals_away', 'shots_on_goal_away', 'shots_off_goal_away', 'shots_insidebox_away', 'shots_outsidebox_away', 'total_shots_away', 'blocked_shots_away', 'fouls_away', 'corner_kicks_away', 'offsides_away', 'ball_possession_away', 'yellow_cards_away', 'red_cards_away', 'goalkeeper_saves_away', 'total_passes_away', 'passes_accurate_away', 'passes_percentage_away', 'formation_home', 'formation_away', 'start_xi_home', 'substitutions_home', 'coach_home_team', 'start_xi_away', 'substitutions_away', 'coach_away_team']\n"
     ]
    }
   ],
   "execution_count": 1
  },
  {
   "metadata": {},
   "cell_type": "code",
   "outputs": [],
   "execution_count": null,
   "source": "",
   "id": "d746450f99060361"
  },
  {
   "metadata": {
    "ExecuteTime": {
     "end_time": "2024-11-28T12:34:49.894222Z",
     "start_time": "2024-11-28T12:34:49.883036Z"
    }
   },
   "cell_type": "code",
   "source": [
    "# Count the number of missing values in each column\n",
    "missing_values = data.isnull().sum()\n",
    "# Filter and print only the columns with missing values greater than zero\n",
    "non_zero_missing = missing_values[missing_values > 0]\n",
    "print(non_zero_missing)\n",
    "# check how much rows in the db\n",
    "# num_rows = data.count()\n",
    "# print(num_rows)"
   ],
   "id": "a027ae3cbcd3bc57",
   "outputs": [
    {
     "name": "stdout",
     "output_type": "stream",
     "text": [
      "goals_extra_time_home    1520\n",
      "goals_extra_time_away    1520\n",
      "goals_penalty_home       1520\n",
      "goals_penalty_away       1520\n",
      "expected_goals_home       947\n",
      "offsides_home              70\n",
      "yellow_cards_home          73\n",
      "red_cards_home           1354\n",
      "goalkeeper_saves_home       6\n",
      "expected_goals_away       947\n",
      "offsides_away              70\n",
      "yellow_cards_away          73\n",
      "red_cards_away           1354\n",
      "goalkeeper_saves_away       6\n",
      "formation_away              1\n",
      "coach_home_team          1520\n",
      "coach_away_team          1520\n",
      "dtype: int64\n"
     ]
    }
   ],
   "execution_count": 6
  },
  {
   "metadata": {
    "ExecuteTime": {
     "end_time": "2024-11-28T12:58:53.555595Z",
     "start_time": "2024-11-28T12:58:53.533985Z"
    }
   },
   "cell_type": "code",
   "source": [
    "# we don't need the coaches columns for now, so drop it\n",
    "updated_data = data.drop(columns=['coach_home_team','coach_away_team'])\n",
    "\n",
    "# check the goalkeeper saves missing values\n",
    "filtered_fixtures = updated_data[updated_data['goalkeeper_saves_home'].isna() | updated_data['goalkeeper_saves_away'].isna()]\n",
    "\n",
    "# Print the fixture IDs where both columns are missing\n",
    "print(\"Fixture IDs where both goalkeeper_saves_home and goalkeeper_saves_away are missing:\")\n",
    "print(filtered_fixtures['fixture_id'].tolist())\n",
    "\n",
    "# seems like we need to fill with 0\n",
    "# Fill missing values in the specified columns with 0\n",
    "updated_data['goalkeeper_saves_home'] = updated_data['goalkeeper_saves_home'].fillna(0)\n",
    "updated_data['goalkeeper_saves_away'] = updated_data['goalkeeper_saves_away'].fillna(0)\n",
    "\n",
    "missing_values = updated_data.isnull().sum()\n",
    "non_zero_missing = missing_values[missing_values > 0]\n",
    "print(non_zero_missing)\n",
    "\n",
    "missing_fixtures_with_red_cards_data = []\n",
    "missing_fixtures_with_yellow_cards_data = []\n",
    "missing_fixtures_with_offsides_data = []\n",
    "\n",
    "missing_values_lsts= [missing_fixtures_with_red_cards_data,missing_fixtures_with_yellow_cards_data,missing_fixtures_with_offsides_data]\n",
    "\n",
    "columns_to_check = ['offsides_','yellow_cards_','red_cards_']\n",
    "for column in columns_to_check:\n",
    "    if updated_data[f'{column}_home'].isna() and updated_data[f'{column}_home'].isna():\n",
    "        lst_name = f\"missing_fixtures_with_{column}data\"\n",
    "        missing_values_lsts[lst_name].append(column)\n",
    "        \n",
    "    "
   ],
   "id": "98500366089e1d9c",
   "outputs": [
    {
     "name": "stdout",
     "output_type": "stream",
     "text": [
      "Fixture IDs where both goalkeeper_saves_home and goalkeeper_saves_away are missing:\n",
      "[710572, 710777, 868135, 1035484, 710798, 710878]\n",
      "goals_extra_time_home    1520\n",
      "goals_extra_time_away    1520\n",
      "goals_penalty_home       1520\n",
      "goals_penalty_away       1520\n",
      "expected_goals_home       947\n",
      "offsides_home              70\n",
      "yellow_cards_home          73\n",
      "red_cards_home           1354\n",
      "expected_goals_away       947\n",
      "offsides_away              70\n",
      "yellow_cards_away          73\n",
      "red_cards_away           1354\n",
      "formation_away              1\n",
      "dtype: int64\n"
     ]
    }
   ],
   "execution_count": 11
  }
 ],
 "metadata": {
  "kernelspec": {
   "display_name": "Python 3",
   "language": "python",
   "name": "python3"
  },
  "language_info": {
   "codemirror_mode": {
    "name": "ipython",
    "version": 2
   },
   "file_extension": ".py",
   "mimetype": "text/x-python",
   "name": "python",
   "nbconvert_exporter": "python",
   "pygments_lexer": "ipython2",
   "version": "2.7.6"
  }
 },
 "nbformat": 4,
 "nbformat_minor": 5
}
