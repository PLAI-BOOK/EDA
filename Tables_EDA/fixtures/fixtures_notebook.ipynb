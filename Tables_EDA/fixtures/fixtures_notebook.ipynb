{
 "cells": [
  {
   "cell_type": "code",
   "execution_count": 2,
   "id": "initial_id",
   "metadata": {
    "ExecuteTime": {
     "end_time": "2024-11-28T12:26:32.644556Z",
     "start_time": "2024-11-28T12:26:32.574465Z"
    },
    "collapsed": true
   },
   "outputs": [
    {
     "name": "stdout",
     "output_type": "stream",
     "text": [
      "['fixture_id', 'league_id', 'league_name', 'home_team_id', 'home_team_name', 'away_team_id', 'away_team_name', 'goals_half_time_home', 'goals_half_time_away', 'goals_full_time_home', 'goals_full_time_away', 'goals_extra_time_home', 'goals_extra_time_away', 'goals_penalty_home', 'goals_penalty_away', 'league_round', 'expected_goals_home', 'shots_on_goal_home', 'shots_off_goal_home', 'shots_insidebox_home', 'shots_outsidebox_home', 'total_shots_home', 'blocked_shots_home', 'fouls_home', 'corner_kicks_home', 'offsides_home', 'ball_possession_home', 'yellow_cards_home', 'red_cards_home', 'goalkeeper_saves_home', 'total_passes_home', 'passes_accurate_home', 'passes_percentage_home', 'expected_goals_away', 'shots_on_goal_away', 'shots_off_goal_away', 'shots_insidebox_away', 'shots_outsidebox_away', 'total_shots_away', 'blocked_shots_away', 'fouls_away', 'corner_kicks_away', 'offsides_away', 'ball_possession_away', 'yellow_cards_away', 'red_cards_away', 'goalkeeper_saves_away', 'total_passes_away', 'passes_accurate_away', 'passes_percentage_away', 'formation_home', 'formation_away', 'start_xi_home', 'substitutions_home', 'coach_home_team', 'start_xi_away', 'substitutions_away', 'coach_away_team']\n"
     ]
    }
   ],
   "source": [
    "# rerun if needed\n",
    "# %pip install pandas matplotlib seaborn\n",
    "\n",
    "import pandas as pd\n",
    "import matplotlib.pyplot as plt\n",
    "import matplotlib as mpl\n",
    "import seaborn as sns\n",
    "data = pd.read_csv('fixtures.csv')\n",
    "# all numeric columns\n",
    "numeric_data = data.select_dtypes(include='number')\n",
    "print(data.columns.tolist())"
   ]
  },
  {
   "cell_type": "code",
   "execution_count": 11,
   "id": "a027ae3cbcd3bc57",
   "metadata": {
    "ExecuteTime": {
     "end_time": "2024-11-28T12:34:49.894222Z",
     "start_time": "2024-11-28T12:34:49.883036Z"
    }
   },
   "outputs": [
    {
     "name": "stdout",
     "output_type": "stream",
     "text": [
      "goals_extra_time_home    1520\n",
      "goals_extra_time_away    1520\n",
      "goals_penalty_home       1520\n",
      "goals_penalty_away       1520\n",
      "expected_goals_home       947\n",
      "offsides_home              70\n",
      "yellow_cards_home          73\n",
      "red_cards_home           1354\n",
      "goalkeeper_saves_home       6\n",
      "expected_goals_away       947\n",
      "offsides_away              70\n",
      "yellow_cards_away          73\n",
      "red_cards_away           1354\n",
      "goalkeeper_saves_away       6\n",
      "formation_away              1\n",
      "coach_home_team          1520\n",
      "coach_away_team          1520\n",
      "dtype: int64\n"
     ]
    }
   ],
   "source": [
    "# Count the number of missing values in each column\n",
    "missing_values = data.isnull().sum()\n",
    "# Filter and print only the columns with missing values greater than zero\n",
    "non_zero_missing = missing_values[missing_values > 0]\n",
    "print(non_zero_missing)\n",
    "# check how much rows in the db\n",
    "# num_rows = data.count()\n",
    "# print(num_rows)"
   ]
  },
  {
   "cell_type": "code",
   "execution_count": 16,
   "id": "98500366089e1d9c",
   "metadata": {
    "ExecuteTime": {
     "end_time": "2024-11-28T12:58:53.555595Z",
     "start_time": "2024-11-28T12:58:53.533985Z"
    }
   },
   "outputs": [
    {
     "name": "stdout",
     "output_type": "stream",
     "text": [
      "Fixture IDs where both goalkeeper_saves_home and goalkeeper_saves_away are missing:\n",
      "[710572, 710777, 868135, 1035484, 710798, 710878]\n",
      "goals_extra_time_home    1520\n",
      "goals_extra_time_away    1520\n",
      "goals_penalty_home       1520\n",
      "goals_penalty_away       1520\n",
      "expected_goals_home       947\n",
      "offsides_home              70\n",
      "yellow_cards_home          73\n",
      "red_cards_home           1354\n",
      "expected_goals_away       947\n",
      "offsides_away              70\n",
      "yellow_cards_away          73\n",
      "red_cards_away           1354\n",
      "formation_away              1\n",
      "dtype: int64\n",
      "Fixtures with missing yellow cards (home and away): [710930, 868319, 710682, 710693, 710876, 592764, 592208, 592153, 592237, 592753, 592243, 868109, 592794, 592273, 868316, 592857, 592799, 868270, 710571, 592754, 1035489, 592246, 592774, 710695, 592755, 710679, 868082, 868088, 867950, 868113, 592321, 1035037, 710858, 710795, 868058, 868093, 868107, 592849, 592228, 868233, 592769, 592250, 592327, 592289, 1035375, 710556, 868195, 868221, 592211, 1035519, 710879, 710604, 710753, 710747, 710823, 710635, 1035059, 592729, 710717, 1035309, 868064, 592866, 710762, 592728, 710558, 1035520, 592340, 868242, 710614, 710734, 592850, 592780, 710686]\n",
      "Fixtures with missing red cards (home and away): [868115, 592733, 868309, 592274, 710926, 592266, 710925, 710918, 592180, 868228, 1035367, 1035504, 1035434, 1035376, 868239, 710877, 592170, 868314, 710677, 710874, 868203, 1035319, 710827, 1035127, 710819, 592324, 710721, 710930, 868319, 1035390, 710932, 710929, 710682, 1035393, 868322, 592737, 1035450, 1035461, 592816, 710876, 868166, 1035509, 1035458, 710684, 592239, 710691, 868062, 710839, 592795, 1035044, 1035420, 868245, 868039, 867952, 592149, 710624, 710719, 710687, 1035086, 592283, 592285, 1035365, 1035054, 592852, 1035462, 592764, 1035496, 1035335, 1035312, 1035067, 592168, 592178, 592167, 592746, 1035296, 1035355, 1035400, 592848, 1035066, 592171, 1035075, 592262, 1035428, 1035323, 592191, 592345, 592200, 592193, 592823, 1035494, 1035089, 592770, 592208, 592206, 592202, 592817, 592874, 592291, 868185, 1035154, 868324, 592214, 592220, 868061, 868036, 1035130, 592223, 592231, 592225, 592237, 592753, 1035510, 1035474, 1035343, 1035142, 592243, 1035413, 868008, 868138, 592258, 868085, 592252, 1035051, 868216, 867988, 592254, 592259, 868278, 868013, 1035539, 592334, 1035513, 592264, 867977, 592748, 592263, 868109, 1035299, 592794, 592279, 592273, 1035111, 867993, 592840, 1035302, 867946, 1035455, 1035423, 868316, 592857, 592778, 592293, 1035353, 1035152, 1035347, 592758, 1035082, 592775, 592792, 1035358, 1035479, 1035392, 710755, 592311, 592860, 1035477, 867984, 868144, 1035134, 1035409, 592315, 592313, 592148, 592834, 592828, 1035057, 592333, 592784, 592799, 592341, 868080, 592203, 592820, 868267, 1035399, 592346, 592343, 592342, 1035099, 592858, 710672, 1035411, 1035357, 1035407, 592360, 867990, 592194, 1035085, 1035437, 1035541, 592730, 592809, 868270, 592270, 1035295, 710792, 1035530, 1035451, 1035076, 868236, 1035078, 710571, 592207, 592744, 867996, 710873, 592747, 592751, 592314, 592325, 592754, 592836, 710572, 710760, 868271, 1035553, 1035468, 868276, 592226, 868220, 1035140, 868005, 868146, 1035128, 1035489, 868004, 868022, 592851, 592246, 592863, 592826, 868252, 868244, 1035410, 868173, 592157, 710735, 592774, 592768, 868132, 1035039, 1035106, 867969, 592175, 868083, 868003, 1035529, 868119, 592275, 592307, 592787, 1035351, 592322, 710690, 868294, 1035139, 1035512, 592798, 868031, 592230, 1035097, 592797, 592142, 868130, 867949, 1035107, 592811, 1035444, 592362, 592765, 592310, 1035354, 868155, 867965, 867956, 592242, 867957, 868320, 592320, 1035340, 867963, 867955, 867971, 1035144, 1035073, 1035500, 592872, 592854, 1035109, 710695, 868277, 592347, 592755, 867972, 868151, 592869, 710741, 867978, 710805, 710562, 868131, 710685, 1035371, 868317, 868049, 868046, 868051, 868230, 592294, 592829, 868288, 868045, 1035310, 1035297, 1035100, 1035101, 592155, 592839, 592875, 710696, 1035060, 592793, 868261, 592318, 592815, 867999, 710808, 868037, 710872, 710712, 1035115, 1035527, 1035493, 1035123, 868191, 868179, 710733, 1035118, 868070, 868067, 868075, 1035379, 592772, 1035329, 1035490, 1035430, 868066, 592166, 868073, 592865, 1035318, 868193, 868019, 710679, 1035079, 868160, 710759, 1035377, 592217, 592855, 1035072, 710739, 592292, 592147, 868082, 592150, 1035370, 868026, 868235, 592300, 592162, 868076, 592835, 868033, 592189, 868243, 1035369, 592179, 592176, 868096, 868137, 710670, 868273, 1035523, 1035506, 592188, 592827, 592247, 710724, 868248, 1035526, 592236, 710934, 592197, 592196, 868077, 868081, 868224, 868234, 592215, 592219, 592216, 592212, 1035471, 592299, 868280, 1035129, 868268, 1035551, 867954, 710763, 710928, 1035517, 592235, 592864, 868088, 867947, 867951, 1035545, 710935, 867964, 867959, 867974, 867960, 867950, 868114, 868206, 710673, 710611, 868113, 1035294, 867973, 867985, 867975, 868065, 1035314, 592204, 710771, 1035147, 868000, 867986, 867987, 1035381, 592326, 592321, 710772, 710766, 710847, 868001, 592336, 592338, 868023, 868024, 592319, 592335, 1035514, 592234, 592344, 868028, 592339, 592349, 868034, 868092, 1035524, 592762, 592361, 1035508, 710886, 868139, 1035436, 868275, 592727, 592734, 592218, 592743, 710720, 710678, 592862, 868192, 868104, 1035445, 868207, 1035532, 710856, 1035306, 710703, 1035315, 867997, 710858, 592738, 592731, 868040, 710777, 1035344, 1035417, 710740, 868157, 710620, 868044, 592199, 868156, 592256, 710702, 868168, 710795, 868063, 868058, 592847, 710737, 868162, 1035362, 868250, 592767, 592771, 1035419, 1035389, 710804, 710713, 1035449, 592312, 868072, 592785, 868133, 710799, 1035432, 868305, 1035473, 868283, 710800, 592796, 710814, 592773, 710806, 710588, 1035052, 868091, 710788, 592810, 868094, 868089, 1035098, 592853, 592873, 1035077, 592871, 592308, 868093, 867966, 868152, 1035457, 868111, 868101, 868108, 868098, 868107, 868041, 1035092, 1035359, 868112, 1035304, 592844, 592213, 592192, 868097, 710596, 868180, 868134, 868129, 592838, 868311, 868122, 868150, 710723, 1035547, 1035311, 868255, 1035124, 710768, 710765, 1035081, 1035349, 710794, 868121, 868227, 868145, 1035071, 868147, 868149, 1035133, 868213, 1035515, 592145, 592143, 592151, 868183, 868313, 1035406, 592272, 592161, 592317, 592849, 868048, 710831, 868249, 868222, 592184, 592288, 710809, 710807, 710812, 710631, 1035386, 868184, 868172, 868057, 868176, 1035327, 592365, 710627, 868187, 868012, 868196, 868128, 592205, 592209, 868204, 710910, 868290, 868199, 868136, 592228, 1035131, 592290, 868232, 868175, 868215, 868143, 868043, 592284, 1035305, 710688, 1035418, 1035388, 867976, 592304, 592301, 592303, 868050, 592779, 1035360, 1035465, 1035424, 592789, 592297, 710818, 710825, 710842, 868238, 592366, 868178, 1035105, 710836, 710832, 868158, 1035151, 868253, 868140, 868233, 1035080, 868272, 1035414, 592163, 1035499, 592769, 592187, 710708, 710816, 710826, 868282, 868291, 868105, 592805, 710835, 710846, 868304, 1035143, 710848, 1035441, 868154, 710638, 1035522, 1035412, 867958, 1035366, 868325, 1035472, 592250, 710567, 710776, 592240, 1035439, 868256, 1035093, 1035087, 868265, 867989, 710568, 867992, 868035, 1035442, 1035041, 1035110, 1035324, 592281, 868210, 1035040, 592830, 1035396, 1035038, 592370, 868141, 710566, 868125, 868116, 1035068, 592296, 868117, 592327, 868120, 592289, 710577, 710576, 868127, 868135, 710584, 1035136, 1035333, 710616, 710749, 592269, 1035316, 592814, 592358, 592353, 592159, 1035552, 592295, 710748, 592843, 592306, 592330, 710585, 710810, 1035375, 592355, 1035384, 592350, 868018, 592141, 710556, 868188, 710561, 592831, 592186, 592364, 868259, 592756, 710565, 1035476, 710557, 710559, 1035531, 592741, 592368, 710593, 592287, 592276, 710595, 867982, 710586, 592185, 710592, 710590, 710600, 710599, 710613, 710598, 868014, 1035348, 592248, 592181, 868266, 592173, 710834, 868170, 1035112, 868079, 868142, 710609, 710625, 710606, 710622, 1035498, 868279, 868284, 592802, 710621, 710623, 710628, 710845, 868171, 868169, 710865, 710626, 710641, 710636, 592786, 868177, 1035484, 868007, 710653, 710647, 710651, 710649, 710664, 710659, 868189, 1035070, 867998, 868181, 868195, 710663, 710655, 710660, 1035525, 1035415, 868186, 1035464, 868198, 868201, 592244, 868208, 868221, 868299, 868214, 592211, 710668, 868254, 868301, 867948, 868209, 868194, 1035135, 868303, 710692, 1035469, 710669, 1035519, 710675, 710746, 1035368, 710602, 592201, 867983, 592818, 868318, 710689, 592229, 1035352, 710700, 1035480, 710704, 710705, 710701, 710694, 592800, 592298, 868226, 868295, 710698, 710879, 710699, 710697, 710892, 1035495, 710919, 710706, 710710, 1035156, 1035528, 592169, 710604, 592745, 868032, 868017, 710730, 710597, 710603, 710752, 868300, 710742, 1035382, 1035385, 1035298, 710753, 592819, 710608, 592253, 710747, 710680, 1035542, 592790, 868200, 868038, 710933, 868099, 710894, 868069, 1035408, 710757, 867953, 710770, 868217, 710824, 710780, 592742, 592806, 710774, 710769, 710648, 1035320, 710781, 710744, 710783, 710790, 868219, 710789, 1035544, 592842, 710801, 710793, 710852, 1035047, 710796, 592777, 710803, 592160, 1035538, 868084, 592352, 710815, 710731, 1035317, 710811, 710813, 1035046, 710931, 1035435, 710820, 592726, 710821, 710823, 710822, 592822, 1035398, 868010, 710619, 592752, 1035459, 710635, 868153, 592760, 1035074, 868257, 710630, 1035478, 592241, 1035402, 1035114, 710828, 710575, 710830, 710843, 1035313, 710652, 710829, 710833, 592245, 1035438, 1035549, 710633, 710840, 867981, 710853, 1035482, 710857, 1035063, 592190, 592165, 710860, 710861, 1035391, 1035426, 868298, 868237, 868269, 710869, 710738, 592305, 710859, 868205, 868165, 1035475, 868053, 710871, 868118, 592222, 868059, 710629, 1035518, 710707, 592776, 710867, 710870, 710883, 1035059, 1035452, 710849, 710882, 867994, 710851, 710884, 592351, 592735, 1035374, 710798, 710850, 710727, 1035405, 868163, 710891, 710903, 710893, 710902, 1035303, 710914, 868251, 710787, 710907, 592729, 1035502, 592302, 710905, 1035497, 868307, 710644, 710637, 710640, 710645, 710642, 868223, 592868, 592156, 710745, 710764, 1035126, 1035149, 1035053, 1035061, 868229, 1035125, 710717, 592359, 592227, 868274, 1035330, 592825, 592804, 710751, 592265, 1035416, 1035309, 592369, 710838, 710844, 868167, 1035346, 592329, 868263, 592238, 592783, 868159, 592354, 710657, 710868, 710904, 710662, 592759, 1035334, 1035516, 710665, 592763, 710671, 868042, 868281, 868056, 1035540, 710899, 710908, 1035138, 868054, 710913, 1035096, 1035069, 868292, 710895, 592232, 1035486, 868246, 868055, 592750, 868021, 1035448, 1035338, 592268, 868321, 868064, 868297, 1035501, 592866, 1035373, 1035102, 1035321, 592841, 710573, 868016, 592278, 1035322, 592736, 710862, 710866, 710863, 710875, 592286, 1035328, 1035491, 592861, 868052, 1035431, 1035548, 592255, 710880, 1035145, 710887, 592337, 710802, 868126, 592257, 710797, 710901, 1035534, 1035088, 592164, 710896, 710898, 710897, 710778, 868258, 868100, 710912, 1035492, 710915, 710909, 592328, 710762, 1035325, 868289, 710922, 710885, 710923, 1035404, 868287, 592846, 1035155, 1035337, 592332, 592812, 1035120, 710581, 592870, 710582, 867967, 710725, 1035425, 868285, 710711, 867962, 710718, 868068, 710722, 1035454, 1035108, 1035380, 1035401, 592821, 868106, 868315, 592728, 1035546, 868123, 868124, 592781, 1035440, 710728, 868087, 592146, 1035141, 868006, 868312, 868323, 592761, 1035153, 1035485, 1035387, 710736, 592859, 710676, 710683, 1035447, 592732, 710681, 868286, 710560, 710563, 710558, 1035520, 868002, 1035536, 1035331, 710564, 710569, 710578, 867979, 592791, 710587, 710570, 710583, 868074, 1035045, 592757, 592340, 868015, 710610, 710612, 592174, 868296, 868242, 710615, 710607, 710614, 710761, 710758, 592172, 592144, 868262, 1035356, 1035332, 592749, 1035503, 1035481, 868293, 868306, 710734, 592850, 710767, 868020, 868202, 1035042, 710775, 710617, 710654, 1035507, 1035466, 1035363, 1035511, 592780, 1035397, 710634, 868102, 1035378, 1035132, 1035521, 592740, 868071, 867995, 1035043, 1035372, 1035345, 868247, 1035453, 868148, 710888, 710889, 1035535, 710881, 710900, 1035403, 710601, 710916, 710920, 710854, 868310, 1035488, 710921, 1035443, 868308, 868264, 592348, 592233, 1035062, 1035433, 1035460, 592331, 868047, 710924, 1035137, 867968, 868240, 868086, 1035090, 710686, 868241, 867991, 710666, 710782, 1035483, 710784, 710779, 710667, 592803, 868190, 710715, 1035361, 710709]\n",
      "Fixtures with missing offsides (home and away): [710925, 592180, 868203, 710721, 1035509, 592852, 592200, 592291, 868008, 592267, 592860, 1035301, 1035300, 592754, 1035489, 868083, 1035537, 710695, 1035527, 592236, 592216, 710928, 592837, 592234, 710858, 710620, 710800, 868089, 592192, 710817, 868213, 710807, 868184, 868196, 868199, 1035131, 710818, 868325, 592327, 1035350, 592295, 710559, 1035531, 592248, 868079, 710845, 710701, 710716, 710781, 710796, 1035402, 710652, 710633, 710860, 710870, 710883, 710844, 592238, 868054, 710913, 1035322, 1035328, 1035491, 868124, 710589, 710570, 868015, 592749, 868264, 1035062]\n",
      "Number of fixtures with missing yellow cards (home and away): 73\n",
      "Number of fixtures with missing red cards (home and away): 1354\n",
      "Number of fixtures with missing offsides (home and away): 70\n"
     ]
    }
   ],
   "source": [
    "# we don't need the coaches columns for now, so drop it\n",
    "updated_data = data.drop(columns=['coach_home_team','coach_away_team'])\n",
    "\n",
    "# check the goalkeeper saves missing values\n",
    "filtered_fixtures = updated_data[updated_data['goalkeeper_saves_home'].isna() | updated_data['goalkeeper_saves_away'].isna()]\n",
    "\n",
    "# Print the fixture IDs where both columns are missing\n",
    "print(\"Fixture IDs where both goalkeeper_saves_home and goalkeeper_saves_away are missing:\")\n",
    "print(filtered_fixtures['fixture_id'].tolist())\n",
    "\n",
    "# seems like we need to fill with 0\n",
    "# Fill missing values in the specified columns with 0\n",
    "updated_data['goalkeeper_saves_home'] = updated_data['goalkeeper_saves_home'].fillna(0)\n",
    "updated_data['goalkeeper_saves_away'] = updated_data['goalkeeper_saves_away'].fillna(0)\n",
    "\n",
    "missing_values = updated_data.isnull().sum()\n",
    "non_zero_missing = missing_values[missing_values > 0]\n",
    "print(non_zero_missing)\n",
    "\n",
    "missing_fixtures_with_red_cards_data = []\n",
    "missing_fixtures_with_yellow_cards_data = []\n",
    "missing_fixtures_with_offsides_data = []\n",
    "\n",
    "missing_values_lsts= [missing_fixtures_with_red_cards_data,missing_fixtures_with_yellow_cards_data,missing_fixtures_with_offsides_data]\n",
    "\n",
    "# columns_to_check = ['offsides', 'yellow_cards', 'red_cards']\n",
    "# for column in columns_to_check:\n",
    "#     if updated_data[f'{column}_home'].isna().any() and updated_data[f'{column}_away'].isna().any():\n",
    "#         lst_name = f\"missing_fixtures_with_{column}_data\"\n",
    "#         missing_values_lsts[columns_to_check.index(column)].append(column)\n",
    "# Create boolean masks for the missing values for each of the specified column combinations\n",
    "yellow_cards_home_missing = updated_data['yellow_cards_home'].isna()\n",
    "yellow_cards_away_missing = updated_data['yellow_cards_away'].isna()\n",
    "\n",
    "red_cards_home_missing = updated_data['red_cards_home'].isna()\n",
    "red_cards_away_missing = updated_data['red_cards_away'].isna()\n",
    "\n",
    "offsides_home_missing = updated_data['offsides_home'].isna()\n",
    "offsides_away_missing = updated_data['offsides_away'].isna()\n",
    "\n",
    "# Combination 1: Check if both 'yellow_cards_home' and 'yellow_cards_away' are missing\n",
    "yellow_cards_combination_missing = updated_data[\n",
    "    yellow_cards_home_missing & yellow_cards_away_missing\n",
    "]\n",
    "\n",
    "# Combination 2: Check if both 'red_cards_home' and 'red_cards_away' are missing\n",
    "red_cards_combination_missing = updated_data[\n",
    "    red_cards_home_missing & red_cards_away_missing\n",
    "]\n",
    "\n",
    "# Combination 3: Check if both 'offsides_home' and 'offsides_away' are missing\n",
    "offsides_combination_missing = updated_data[\n",
    "    offsides_home_missing & offsides_away_missing\n",
    "]\n",
    "\n",
    "# Count the fixtures where both columns in each combination have missing values\n",
    "yellow_cards_combination_fixtures = yellow_cards_combination_missing['fixture_id'].unique()\n",
    "red_cards_combination_fixtures = red_cards_combination_missing['fixture_id'].unique()\n",
    "offsides_combination_fixtures = offsides_combination_missing['fixture_id'].unique()\n",
    "\n",
    "# Print the fixture IDs for each combination\n",
    "print(f\"Fixtures with missing yellow cards (home and away): {yellow_cards_combination_fixtures.tolist()}\")\n",
    "print(f\"Fixtures with missing red cards (home and away): {red_cards_combination_fixtures.tolist()}\")\n",
    "print(f\"Fixtures with missing offsides (home and away): {offsides_combination_fixtures.tolist()}\")\n",
    "\n",
    "# Count the number of fixtures with missing data in each combination\n",
    "print(f\"Number of fixtures with missing yellow cards (home and away): {len(yellow_cards_combination_fixtures)}\")\n",
    "print(f\"Number of fixtures with missing red cards (home and away): {len(red_cards_combination_fixtures)}\")\n",
    "print(f\"Number of fixtures with missing offsides (home and away): {len(offsides_combination_fixtures)}\")\n",
    "\n"
   ]
  },
  {
   "cell_type": "code",
   "execution_count": 20,
   "id": "9cd599d2",
   "metadata": {},
   "outputs": [
    {
     "name": "stdout",
     "output_type": "stream",
     "text": [
      "Fixture IDs where both goalkeeper_saves_home and goalkeeper_saves_away are missing:\n",
      "[]\n",
      "\n",
      "Missing values summary (after excluding checked columns):\n",
      "expected_goals_home    947\n",
      "expected_goals_away    947\n",
      "formation_away           1\n",
      "dtype: int64\n"
     ]
    }
   ],
   "source": [
    "# List of columns you have already checked (you don't want them in the missing values summary)\n",
    "checked_columns = [\n",
    "    'yellow_cards_home', 'yellow_cards_away',\n",
    "    'red_cards_home', 'red_cards_away',\n",
    "    'offsides_home', 'offsides_away','goals_extra_time_home','goals_extra_time_away','goals_penalty_home','goals_penalty_away'\n",
    "]\n",
    "\n",
    "# Exclude the checked columns from the missing values summary\n",
    "missing_values = updated_data.drop(columns=checked_columns).isnull().sum()\n",
    "\n",
    "# Filter and print only the columns with missing values greater than zero\n",
    "non_zero_missing = missing_values[missing_values > 0]\n",
    "\n",
    "# Print the fixture IDs for the missing 'goalkeeper_saves_home' and 'goalkeeper_saves_away' (if you haven't already checked)\n",
    "goalkeeper_saves_combination_missing = updated_data[\n",
    "    updated_data['goalkeeper_saves_home'].isna() & updated_data['goalkeeper_saves_away'].isna()\n",
    "]\n",
    "goalkeeper_saves_combination_fixtures = goalkeeper_saves_combination_missing['fixture_id'].unique()\n",
    "\n",
    "# Output the fixture IDs\n",
    "print(\"Fixture IDs where both goalkeeper_saves_home and goalkeeper_saves_away are missing:\")\n",
    "print(goalkeeper_saves_combination_fixtures.tolist())\n",
    "\n",
    "# Output the missing value summary, excluding the already checked columns\n",
    "print(\"\\nMissing values summary (after excluding checked columns):\")\n",
    "print(non_zero_missing)\n"
   ]
  }
 ],
 "metadata": {
  "kernelspec": {
   "display_name": "Python 3",
   "language": "python",
   "name": "python3"
  },
  "language_info": {
   "codemirror_mode": {
    "name": "ipython",
    "version": 3
   },
   "file_extension": ".py",
   "mimetype": "text/x-python",
   "name": "python",
   "nbconvert_exporter": "python",
   "pygments_lexer": "ipython3",
   "version": "3.12.5"
  }
 },
 "nbformat": 4,
 "nbformat_minor": 5
}
