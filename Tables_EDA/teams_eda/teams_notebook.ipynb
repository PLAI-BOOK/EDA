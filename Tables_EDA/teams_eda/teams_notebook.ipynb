{
 "cells": [
  {
   "cell_type": "code",
   "id": "initial_id",
   "metadata": {
    "collapsed": true,
    "ExecuteTime": {
     "end_time": "2024-11-19T18:20:44.381501Z",
     "start_time": "2024-11-19T18:20:44.355780Z"
    }
   },
   "source": [
    "# rerun if needed\n",
    "# %pip install pandas matplotlib seaborn\n",
    "\n",
    "import pandas as pd\n",
    "import matplotlib.pyplot as plt\n",
    "import matplotlib as mpl\n",
    "import seaborn as sns\n",
    "data = pd.read_csv('teams.csv')\n",
    "# all numeric columns\n",
    "numeric_data = data.select_dtypes(include='number')\n",
    "print(data.columns.tolist())"
   ],
   "outputs": [
    {
     "name": "stdout",
     "output_type": "stream",
     "text": [
      "['team_id', 'team_name', 'season', 'league_id', 'team_form', 'games_played_home', 'games_played_away', 'wins_home', 'losses_home', 'draws_home', 'wins_away', 'losses_away', 'draws_away', 'stadium_capacity', 'team_country', 'goals_scored_0_15', 'goals_scored_16_30', 'goals_scored_31_45', 'goals_scored_46_60', 'goals_scored_61_75', 'goals_scored_76_90', 'goals_scored_91_105', 'goals_scored_106_120', 'goals_conceded_0_15', 'goals_conceded_16_30', 'goals_conceded_31_45', 'goals_conceded_46_60', 'goals_conceded_61_75', 'goals_conceded_76_90', 'goals_conceded_91_105', 'goals_conceded_106_120', 'clean_sheets', 'failed_to_score', 'penalty_success_rate', 'over_0_5', 'under_0_5', 'over_1_5', 'under_1_5', 'over_2_5', 'under_2_5', 'over_3_5', 'under_3_5', 'over_4_5', 'under_4_5', 'yellow_cards_0_15', 'yellow_cards_16_30', 'yellow_cards_31_45', 'yellow_cards_46_60', 'yellow_cards_61_75', 'yellow_cards_76_90', 'yellow_cards_91_105', 'yellow_cards_106_120', 'red_cards_0_15', 'red_cards_16_30', 'red_cards_31_45', 'red_cards_46_60', 'red_cards_61_75', 'red_cards_76_90', 'red_cards_91_105', 'red_cards_106_120', 'lineups_per_game']\n"
     ]
    }
   ],
   "execution_count": 1
  },
  {
   "metadata": {
    "ExecuteTime": {
     "end_time": "2024-11-19T18:26:22.860330Z",
     "start_time": "2024-11-19T18:26:22.849005Z"
    }
   },
   "cell_type": "code",
   "source": [
    "# Count the number of missing values in each column\n",
    "missing_values = data.isnull().sum()\n",
    "# Filter and print only the columns with missing values greater than zero\n",
    "non_zero_missing = missing_values[missing_values > 0]\n",
    "print(non_zero_missing)"
   ],
   "id": "a77e16c5e7f6a80",
   "outputs": [
    {
     "name": "stdout",
     "output_type": "stream",
     "text": [
      "team_form           206\n",
      "team_country        666\n",
      "lineups_per_game    666\n",
      "dtype: int64\n"
     ]
    }
   ],
   "execution_count": 2
  },
  {
   "metadata": {
    "ExecuteTime": {
     "end_time": "2024-11-19T18:35:40.567861Z",
     "start_time": "2024-11-19T18:35:40.544201Z"
    }
   },
   "cell_type": "code",
   "source": [
    "# after finding 206 null team_forms - we'll delte those rows - this teams weren't in the league at this season\n",
    "\n",
    "# Assuming 'df' is your DataFrame\n",
    "updated_data = data.loc[~((data['games_played_home'] == 0) & \n",
    "                       (data['games_played_away'] == 0) & \n",
    "                       (data['wins_home'] == 0) & \n",
    "                       (data['losses_home'] == 0) & \n",
    "                       (data['draws_home'] == 0) & \n",
    "                       (data['wins_away'] == 0) & \n",
    "                       (data['losses_away'] == 0) & \n",
    "                       (data['draws_away'] == 0) & \n",
    "                       data['team_form'].isnull())]\n",
    "\n",
    "# remove the column lineups_per_game - it includes at each fixture\n",
    "updated_data = updated_data.drop(columns=['lineups_per_game'])\n",
    "\n",
    "#checking\n",
    "# Count the number of missing values in each column\n",
    "missing_values = updated_data.isnull().sum()\n",
    "# Filter and print only the columns with missing values greater than zero\n",
    "non_zero_missing = missing_values[missing_values > 0]\n",
    "print(non_zero_missing)\n",
    "\n",
    "\n"
   ],
   "id": "53472e5c604acf84",
   "outputs": [
    {
     "name": "stdout",
     "output_type": "stream",
     "text": [
      "team_country    460\n",
      "dtype: int64\n"
     ]
    }
   ],
   "execution_count": 5
  },
  {
   "metadata": {
    "ExecuteTime": {
     "end_time": "2024-11-19T18:39:40.661305Z",
     "start_time": "2024-11-19T18:39:40.649132Z"
    }
   },
   "cell_type": "code",
   "source": [
    "# create dict for each league and it's country to fill team_country\n",
    "\n",
    "team_country_dict = {39: 'England', 140:'Spain'}\n",
    "updated_data['team_country'] = updated_data['league_id'].map(team_country_dict)\n",
    "\n",
    "#checking\n",
    "# Count the number of missing values in each column\n",
    "missing_values = updated_data.isnull().sum()\n",
    "# Filter and print only the columns with missing values greater than zero\n",
    "non_zero_missing = missing_values[missing_values > 0]\n",
    "print(non_zero_missing)\n"
   ],
   "id": "1ec22eee7c140519",
   "outputs": [
    {
     "name": "stdout",
     "output_type": "stream",
     "text": [
      "Series([], dtype: int64)\n",
      "     team_id        team_name  season  league_id  \\\n",
      "658      536          Sevilla    2020        140   \n",
      "662      530  Atletico Madrid    2020        140   \n",
      "663      548    Real Sociedad    2018        140   \n",
      "664      546           Getafe    2020        140   \n",
      "665      529        Barcelona    2020        140   \n",
      "\n",
      "                                  team_form  games_played_home  \\\n",
      "658  WWDLLLWWWLWDWWDWLWWWWWWLLWWDWWWWWLDWLW                 19   \n",
      "662  WDDWWWWWWWLWWWWWWWWDWDLWDWDWLDWWLWDWWW                 19   \n",
      "663  WDLLWDLWDLDWWLLLLWWDDWDWDLLDDWLDLLWWWL                 19   \n",
      "664  WDWLWLDLDDLLWDLLWWLDLLLLWLDDDLDLWLLLWD                 19   \n",
      "665  WWDLLDWLWLWWDWDWWWWWWWDWWWWWWLWWLWDDLW                 19   \n",
      "\n",
      "     games_played_away  wins_home  losses_home  draws_home  ...  \\\n",
      "658                 19         14            4           1  ...   \n",
      "662                 19         15            1           3  ...   \n",
      "663                 19          7            6           6  ...   \n",
      "664                 19          6            7           6  ...   \n",
      "665                 19         11            3           5  ...   \n",
      "\n",
      "     yellow_cards_91_105  yellow_cards_106_120  red_cards_0_15  \\\n",
      "658                    0                     0               0   \n",
      "662                    0                     0               0   \n",
      "663                    0                     0               0   \n",
      "664                    0                     0               1   \n",
      "665                    0                     0               0   \n",
      "\n",
      "     red_cards_16_30 red_cards_31_45  red_cards_46_60  red_cards_61_75  \\\n",
      "658                0               1                1                0   \n",
      "662                0               0                0                0   \n",
      "663                0               0                1                2   \n",
      "664                0               0                1                1   \n",
      "665                0               1                0                0   \n",
      "\n",
      "     red_cards_76_90  red_cards_91_105  red_cards_106_120  \n",
      "658                0                 0                  0  \n",
      "662                0                 0                  0  \n",
      "663                1                 0                  0  \n",
      "664                4                 0                  0  \n",
      "665                1                 0                  0  \n",
      "\n",
      "[5 rows x 60 columns]\n"
     ]
    }
   ],
   "execution_count": 7
  },
  {
   "metadata": {
    "ExecuteTime": {
     "end_time": "2024-11-19T18:41:53.217424Z",
     "start_time": "2024-11-19T18:41:53.204797Z"
    }
   },
   "cell_type": "code",
   "source": [
    "# check how many teams in each season\n",
    "# Group by 'season' and count unique 'team_id'\n",
    "team_count_per_season = updated_data.groupby('season')['team_id'].nunique()\n",
    "\n",
    "# Print the result\n",
    "print(team_count_per_season)"
   ],
   "id": "4d3b0ff36cbc178c",
   "outputs": [
    {
     "name": "stdout",
     "output_type": "stream",
     "text": [
      "season\n",
      "2010    20\n",
      "2011    20\n",
      "2012    20\n",
      "2013    20\n",
      "2014    20\n",
      "2015    20\n",
      "2016    20\n",
      "2017    40\n",
      "2018    40\n",
      "2019    40\n",
      "2020    40\n",
      "2021    40\n",
      "2022    40\n",
      "2023    40\n",
      "2024    40\n",
      "Name: team_id, dtype: int64\n"
     ]
    }
   ],
   "execution_count": 8
  },
  {
   "metadata": {},
   "cell_type": "markdown",
   "source": "Encode all the non numeric columns",
   "id": "9468ac3349188bc8"
  },
  {
   "metadata": {
    "ExecuteTime": {
     "end_time": "2024-11-19T18:50:24.836558Z",
     "start_time": "2024-11-19T18:50:24.820049Z"
    }
   },
   "cell_type": "code",
   "source": [
    "# print all the non numeric columns\n",
    "# Select columns that are non-numeric\n",
    "non_numeric_data = updated_data.select_dtypes(exclude='number')\n",
    "\n",
    "# Print the non-numeric data\n",
    "print(non_numeric_data.columns.tolist())\n",
    "\n",
    "# drop the column of team_name - we have team_id it's enough\n",
    "\n",
    "\n"
   ],
   "id": "ca69cf2be7afcefa",
   "outputs": [
    {
     "name": "stdout",
     "output_type": "stream",
     "text": [
      "['team_name', 'team_form', 'team_country']\n"
     ]
    }
   ],
   "execution_count": 10
  },
  {
   "metadata": {},
   "cell_type": "markdown",
   "source": "",
   "id": "a774a72c583d8bd"
  },
  {
   "metadata": {},
   "cell_type": "markdown",
   "source": "",
   "id": "46b0b4864c89d6d8"
  }
 ],
 "metadata": {
  "kernelspec": {
   "display_name": "Python 3",
   "language": "python",
   "name": "python3"
  },
  "language_info": {
   "codemirror_mode": {
    "name": "ipython",
    "version": 2
   },
   "file_extension": ".py",
   "mimetype": "text/x-python",
   "name": "python",
   "nbconvert_exporter": "python",
   "pygments_lexer": "ipython2",
   "version": "2.7.6"
  }
 },
 "nbformat": 4,
 "nbformat_minor": 5
}
