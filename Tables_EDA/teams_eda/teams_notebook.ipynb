{
 "cells": [
  {
   "cell_type": "code",
   "id": "initial_id",
   "metadata": {
    "collapsed": true,
    "ExecuteTime": {
     "end_time": "2024-11-19T20:28:19.912521Z",
     "start_time": "2024-11-19T20:28:19.901390Z"
    }
   },
   "source": [
    "# rerun if needed\n",
    "# %pip install pandas matplotlib seaborn\n",
    "\n",
    "import pandas as pd\n",
    "import matplotlib.pyplot as plt\n",
    "import matplotlib as mpl\n",
    "import seaborn as sns\n",
    "data = pd.read_csv('teams.csv')\n",
    "# all numeric columns\n",
    "numeric_data = data.select_dtypes(include='number')\n",
    "print(data.columns.tolist())"
   ],
   "outputs": [
    {
     "name": "stdout",
     "output_type": "stream",
     "text": [
      "['team_id', 'team_name', 'season', 'league_id', 'team_form', 'games_played_home', 'games_played_away', 'wins_home', 'losses_home', 'draws_home', 'wins_away', 'losses_away', 'draws_away', 'stadium_capacity', 'team_country', 'goals_scored_0_15', 'goals_scored_16_30', 'goals_scored_31_45', 'goals_scored_46_60', 'goals_scored_61_75', 'goals_scored_76_90', 'goals_scored_91_105', 'goals_scored_106_120', 'goals_conceded_0_15', 'goals_conceded_16_30', 'goals_conceded_31_45', 'goals_conceded_46_60', 'goals_conceded_61_75', 'goals_conceded_76_90', 'goals_conceded_91_105', 'goals_conceded_106_120', 'clean_sheets', 'failed_to_score', 'penalty_success_rate', 'over_0_5', 'under_0_5', 'over_1_5', 'under_1_5', 'over_2_5', 'under_2_5', 'over_3_5', 'under_3_5', 'over_4_5', 'under_4_5', 'yellow_cards_0_15', 'yellow_cards_16_30', 'yellow_cards_31_45', 'yellow_cards_46_60', 'yellow_cards_61_75', 'yellow_cards_76_90', 'yellow_cards_91_105', 'yellow_cards_106_120', 'red_cards_0_15', 'red_cards_16_30', 'red_cards_31_45', 'red_cards_46_60', 'red_cards_61_75', 'red_cards_76_90', 'red_cards_91_105', 'red_cards_106_120', 'lineups_per_game']\n"
     ]
    }
   ],
   "execution_count": 127
  },
  {
   "metadata": {
    "ExecuteTime": {
     "end_time": "2024-11-19T20:28:19.949568Z",
     "start_time": "2024-11-19T20:28:19.936460Z"
    }
   },
   "cell_type": "code",
   "source": [
    "# Count the number of missing values in each column\n",
    "missing_values = data.isnull().sum()\n",
    "# Filter and print only the columns with missing values greater than zero\n",
    "non_zero_missing = missing_values[missing_values > 0]\n",
    "print(non_zero_missing)"
   ],
   "id": "a77e16c5e7f6a80",
   "outputs": [
    {
     "name": "stdout",
     "output_type": "stream",
     "text": [
      "team_form           206\n",
      "team_country        666\n",
      "lineups_per_game    666\n",
      "dtype: int64\n"
     ]
    }
   ],
   "execution_count": 128
  },
  {
   "metadata": {
    "ExecuteTime": {
     "end_time": "2024-11-19T20:28:19.994691Z",
     "start_time": "2024-11-19T20:28:19.986376Z"
    }
   },
   "cell_type": "code",
   "source": [
    "# after finding 206 null team_forms - we'll delte those rows - this teams weren't in the league at this season\n",
    "\n",
    "# Assuming 'df' is your DataFrame\n",
    "updated_data = data.loc[~((data['games_played_home'] == 0) & \n",
    "                       (data['games_played_away'] == 0) & \n",
    "                       (data['wins_home'] == 0) & \n",
    "                       (data['losses_home'] == 0) & \n",
    "                       (data['draws_home'] == 0) & \n",
    "                       (data['wins_away'] == 0) & \n",
    "                       (data['losses_away'] == 0) & \n",
    "                       (data['draws_away'] == 0) & \n",
    "                       data['team_form'].isnull())]\n",
    "\n",
    "# remove the column lineups_per_game - it includes at each fixture\n",
    "updated_data = updated_data.drop(columns=['lineups_per_game'])\n",
    "\n",
    "#checking\n",
    "# Count the number of missing values in each column\n",
    "missing_values = updated_data.isnull().sum()\n",
    "# Filter and print only the columns with missing values greater than zero\n",
    "non_zero_missing = missing_values[missing_values > 0]\n",
    "print(non_zero_missing)\n",
    "\n",
    "\n"
   ],
   "id": "53472e5c604acf84",
   "outputs": [
    {
     "name": "stdout",
     "output_type": "stream",
     "text": [
      "team_country    460\n",
      "dtype: int64\n"
     ]
    }
   ],
   "execution_count": 129
  },
  {
   "metadata": {
    "ExecuteTime": {
     "end_time": "2024-11-19T20:28:20.039203Z",
     "start_time": "2024-11-19T20:28:20.033249Z"
    }
   },
   "cell_type": "code",
   "source": [
    "# create dict for each league and it's country to fill team_country\n",
    "\n",
    "team_country_dict = {39: 'England', 140:'Spain'}\n",
    "updated_data['team_country'] = updated_data['league_id'].map(team_country_dict)\n",
    "\n",
    "#checking\n",
    "# Count the number of missing values in each column\n",
    "missing_values = updated_data.isnull().sum()\n",
    "# Filter and print only the columns with missing values greater than zero\n",
    "non_zero_missing = missing_values[missing_values > 0]\n",
    "print(non_zero_missing)\n"
   ],
   "id": "1ec22eee7c140519",
   "outputs": [
    {
     "name": "stdout",
     "output_type": "stream",
     "text": [
      "Series([], dtype: int64)\n"
     ]
    }
   ],
   "execution_count": 130
  },
  {
   "metadata": {
    "ExecuteTime": {
     "end_time": "2024-11-19T20:28:20.063258Z",
     "start_time": "2024-11-19T20:28:20.058621Z"
    }
   },
   "cell_type": "code",
   "source": [
    "# check how many teams in each season\n",
    "# Group by 'season' and count unique 'team_id'\n",
    "team_count_per_season = updated_data.groupby('season')['team_id'].nunique()\n",
    "\n",
    "# Print the result\n",
    "print(team_count_per_season)"
   ],
   "id": "4d3b0ff36cbc178c",
   "outputs": [
    {
     "name": "stdout",
     "output_type": "stream",
     "text": [
      "season\n",
      "2010    20\n",
      "2011    20\n",
      "2012    20\n",
      "2013    20\n",
      "2014    20\n",
      "2015    20\n",
      "2016    20\n",
      "2017    40\n",
      "2018    40\n",
      "2019    40\n",
      "2020    40\n",
      "2021    40\n",
      "2022    40\n",
      "2023    40\n",
      "2024    40\n",
      "Name: team_id, dtype: int64\n"
     ]
    }
   ],
   "execution_count": 131
  },
  {
   "metadata": {},
   "cell_type": "markdown",
   "source": "Encode all the non numeric columns",
   "id": "9468ac3349188bc8"
  },
  {
   "metadata": {
    "ExecuteTime": {
     "end_time": "2024-11-19T20:28:20.104340Z",
     "start_time": "2024-11-19T20:28:20.099805Z"
    }
   },
   "cell_type": "code",
   "source": [
    "# print all the non numeric columns\n",
    "# Select columns that are non-numeric\n",
    "non_numeric_data = updated_data.select_dtypes(exclude='number')\n",
    "\n",
    "# Print the non-numeric data\n",
    "print(non_numeric_data.columns.tolist())\n",
    "\n",
    "# drop the column of team_name - we have team_id it's enough\n",
    "updated_data = updated_data.drop(columns=['team_name'])\n",
    "\n",
    "# drop games_played_home  games_played_away - not relevant - all teams play the same amount of games + it will have good indicator on the fixtures table\n",
    "# updated_data = updated_data.drop(columns=['games_played_home','games_played_away'])\n"
   ],
   "id": "ca69cf2be7afcefa",
   "outputs": [
    {
     "name": "stdout",
     "output_type": "stream",
     "text": [
      "['team_name', 'team_form', 'team_country']\n"
     ]
    }
   ],
   "execution_count": 132
  },
  {
   "metadata": {},
   "cell_type": "markdown",
   "source": "",
   "id": "a774a72c583d8bd"
  },
  {
   "metadata": {
    "ExecuteTime": {
     "end_time": "2024-11-19T20:28:20.146408Z",
     "start_time": "2024-11-19T20:28:20.136323Z"
    }
   },
   "cell_type": "code",
   "source": [
    "# encode the team_country by get_dummies\n",
    "dummies = pd.get_dummies(updated_data['team_country'], prefix='team_country')\n",
    "#  include these dummy variables back into original DataFrame and drop the original column\n",
    "updated_data = pd.concat([updated_data, dummies], axis=1)\n",
    "updated_data.drop('team_country', axis=1, inplace=True)\n",
    "# convert in into int and not true/false\n",
    "dummy_cols = [col for col in updated_data.columns if any(prefix in col for prefix in ['team_country_'])]\n",
    "updated_data[dummy_cols] = updated_data[dummy_cols].astype(int)\n",
    "\n",
    "# To see the encoded DataFrame\n",
    "print(updated_data.columns.tolist())\n"
   ],
   "id": "db045618d19f1ce9",
   "outputs": [
    {
     "name": "stdout",
     "output_type": "stream",
     "text": [
      "['team_id', 'season', 'league_id', 'team_form', 'games_played_home', 'games_played_away', 'wins_home', 'losses_home', 'draws_home', 'wins_away', 'losses_away', 'draws_away', 'stadium_capacity', 'goals_scored_0_15', 'goals_scored_16_30', 'goals_scored_31_45', 'goals_scored_46_60', 'goals_scored_61_75', 'goals_scored_76_90', 'goals_scored_91_105', 'goals_scored_106_120', 'goals_conceded_0_15', 'goals_conceded_16_30', 'goals_conceded_31_45', 'goals_conceded_46_60', 'goals_conceded_61_75', 'goals_conceded_76_90', 'goals_conceded_91_105', 'goals_conceded_106_120', 'clean_sheets', 'failed_to_score', 'penalty_success_rate', 'over_0_5', 'under_0_5', 'over_1_5', 'under_1_5', 'over_2_5', 'under_2_5', 'over_3_5', 'under_3_5', 'over_4_5', 'under_4_5', 'yellow_cards_0_15', 'yellow_cards_16_30', 'yellow_cards_31_45', 'yellow_cards_46_60', 'yellow_cards_61_75', 'yellow_cards_76_90', 'yellow_cards_91_105', 'yellow_cards_106_120', 'red_cards_0_15', 'red_cards_16_30', 'red_cards_31_45', 'red_cards_46_60', 'red_cards_61_75', 'red_cards_76_90', 'red_cards_91_105', 'red_cards_106_120', 'team_country_England', 'team_country_Spain']\n"
     ]
    }
   ],
   "execution_count": 133
  },
  {
   "metadata": {},
   "cell_type": "markdown",
   "source": "to deal with team form - we will convert each form to ternary num and then to decimal - L=0,D=1,W=2",
   "id": "46b0b4864c89d6d8"
  },
  {
   "metadata": {
    "ExecuteTime": {
     "end_time": "2024-11-19T20:28:20.186637Z",
     "start_time": "2024-11-19T20:28:20.175279Z"
    }
   },
   "cell_type": "code",
   "source": [
    "# dict of LDW values\n",
    "form_dict = {'L':0, 'D':1, 'W':3}\n",
    "\n",
    "def process_team_form(row):\n",
    "    # Replace each character in the string according to the dictionary\n",
    "    form_numeric_string = ''.join(str(form_dict[char]) for char in row['team_form'])\n",
    "    return int(form_numeric_string)  \n",
    "\n",
    "updated_data_copy = updated_data.copy()\n",
    "\n",
    "# Apply the function to the DataFrame\n",
    "updated_data_copy['team_form_numeric'] = updated_data_copy.apply(process_team_form, axis=1)\n",
    "\n",
    "# update it on the origin df\n",
    "# Apply the function to the team_form column and create a new team_form_decimal column\n",
    "updated_data['team_form_numeric'] = updated_data_copy[['team_form_numeric']]\n",
    "\n",
    "# Drop the original team_form column\n",
    "updated_data.drop('team_form', axis=1, inplace=True)\n",
    "\n",
    "print(updated_data['team_form_numeric'])\n",
    "\n",
    "\n",
    "\n"
   ],
   "id": "2f3b617a9943343c",
   "outputs": [
    {
     "name": "stdout",
     "output_type": "stream",
     "text": [
      "0      10133133000100333013003331103103013330\n",
      "2      30101313000330003300003313311033131130\n",
      "3         10013013130300330013110113000303000\n",
      "4        331103330310113333031330301330030133\n",
      "5       3031033331331333130131131133333130013\n",
      "                        ...                  \n",
      "658    33100033303133130333333003313333301303\n",
      "662    31133333330333333331310313130133031333\n",
      "663    31003103101330000331131310011301003330\n",
      "664    31303010110031003301000030111010300031\n",
      "665    33100130303313133333331333333033031103\n",
      "Name: team_form_numeric, Length: 460, dtype: object\n"
     ]
    }
   ],
   "execution_count": 134
  },
  {
   "metadata": {},
   "cell_type": "markdown",
   "source": "normalize the integer values",
   "id": "865ae9d9a61d3fa8"
  },
  {
   "metadata": {
    "ExecuteTime": {
     "end_time": "2024-11-19T20:28:20.325346Z",
     "start_time": "2024-11-19T20:28:20.311594Z"
    }
   },
   "cell_type": "code",
   "source": [
    "print(updated_data.head())\n",
    "\n",
    "# normalize stadium capacity with min-max - between 0-1 - not standartization cause I can't assume it normally distribute\n",
    "from sklearn.preprocessing import MinMaxScaler\n",
    "\n",
    "# Create a MinMaxScaler object\n",
    "min_max_scaler = MinMaxScaler()\n",
    "\n",
    "# Fit and transform 'stadium_capacity'\n",
    "updated_data['stadium_capacity_normalized'] = min_max_scaler.fit_transform(updated_data[['stadium_capacity']])\n",
    "\n",
    "print(updated_data['stadium_capacity_normalized'])\n"
   ],
   "id": "3dbc3d0356648d67",
   "outputs": [
    {
     "name": "stdout",
     "output_type": "stream",
     "text": [
      "   team_id  season  league_id  games_played_home  games_played_away  \\\n",
      "0       39    2018         39                 19                 19   \n",
      "2       44    2019         39                 19                 19   \n",
      "3       44    2020         39                 19                 19   \n",
      "4       48    2020         39                 19                 19   \n",
      "5       33    2020         39                 19                 19   \n",
      "\n",
      "   wins_home  losses_home  draws_home  wins_away  losses_away  ...  \\\n",
      "0         10            5           4          6            8  ...   \n",
      "2          8            7           4          7            7  ...   \n",
      "3          4            9           6          6           10  ...   \n",
      "4         10            5           4          9            6  ...   \n",
      "5          9            6           4         12            0  ...   \n",
      "\n",
      "   red_cards_16_30  red_cards_31_45  red_cards_46_60  red_cards_61_75  \\\n",
      "0                1                0                0                0   \n",
      "2                0                0                0                0   \n",
      "3                0                0                0                0   \n",
      "4                0                1                0                0   \n",
      "5                1                0                0                0   \n",
      "\n",
      "   red_cards_76_90  red_cards_91_105  red_cards_106_120  team_country_England  \\\n",
      "0                0                 0                  0                     1   \n",
      "2                0                 0                  0                     1   \n",
      "3                0                 0                  0                     1   \n",
      "4                2                 0                  0                     1   \n",
      "5                0                 0                  0                     1   \n",
      "\n",
      "   team_country_Spain                       team_form_numeric  \n",
      "0                   0  10133133000100333013003331103103013330  \n",
      "2                   0  30101313000330003300003313311033131130  \n",
      "3                   0     10013013130300330013110113000303000  \n",
      "4                   0    331103330310113333031330301330030133  \n",
      "5                   0   3031033331331333130131131133333130013  \n",
      "\n",
      "[5 rows x 60 columns]\n",
      "0      0.343316\n",
      "2      0.187277\n",
      "3      0.187277\n",
      "4      0.703452\n",
      "5      0.880600\n",
      "         ...   \n",
      "658    0.524508\n",
      "662    0.806289\n",
      "663    0.412769\n",
      "664    0.120704\n",
      "665    0.618521\n",
      "Name: stadium_capacity_normalized, Length: 460, dtype: float64\n"
     ]
    }
   ],
   "execution_count": 135
  },
  {
   "metadata": {
    "ExecuteTime": {
     "end_time": "2024-11-19T20:28:20.379553Z",
     "start_time": "2024-11-19T20:28:20.359600Z"
    }
   },
   "cell_type": "code",
   "source": [
    "# add points for every 5 fixtures\n",
    "def calculate_points(data):\n",
    "    max_fixtures = 40\n",
    "    for i in range(5, max_fixtures+1, 5):\n",
    "        data[f'fixture_{i}_points'] = data['team_form_numeric'].apply(\n",
    "            lambda x: sum(int(y) for y in str(x)[:i])\n",
    "        )\n",
    "\n",
    "    # Calculate the end season points, consider the length of the string for leagues with fewer than 40 fixtures\n",
    "    data['end_season_points'] = data['team_form_numeric'].apply(\n",
    "        lambda x: sum(int(y) for y in str(x))\n",
    "    )\n",
    "\n",
    "    # For leagues with fewer than 40 fixtures, copy the end_season_points to fixture_40_points\n",
    "    data['fixture_40_points'] = data.apply(\n",
    "        lambda row: row['end_season_points'] if 'fixture_40_points' not in row else row['fixture_40_points'],\n",
    "        axis=1\n",
    "    )\n",
    "\n",
    "    return data\n",
    "\n",
    "# Assuming updated_data is your DataFrame\n",
    "updated_data = calculate_points(updated_data)\n",
    "print(updated_data[['fixture_5_points', 'fixture_10_points', 'fixture_15_points', 'fixture_20_points', 'fixture_25_points', 'fixture_30_points', 'fixture_35_points', 'fixture_40_points', 'end_season_points']])\n"
   ],
   "id": "44344444143692bd",
   "outputs": [
    {
     "name": "stdout",
     "output_type": "stream",
     "text": [
      "     fixture_5_points  fixture_10_points  fixture_15_points  \\\n",
      "0                   8                 15                 19   \n",
      "2                   5                 12                 18   \n",
      "3                   5                 13                 19   \n",
      "4                   8                 20                 26   \n",
      "5                   7                 20                 33   \n",
      "..                ...                ...                ...   \n",
      "658                 7                 16                 27   \n",
      "662                11                 26                 38   \n",
      "663                 7                 12                 19   \n",
      "664                10                 13                 17   \n",
      "665                 7                 14                 25   \n",
      "\n",
      "     fixture_20_points  fixture_25_points  fixture_30_points  \\\n",
      "0                   29                 38                 44   \n",
      "2                   24                 31                 39   \n",
      "3                   26                 30                 36   \n",
      "4                   38                 48                 55   \n",
      "5                   41                 50                 63   \n",
      "..                 ...                ...                ...   \n",
      "658                 39                 48                 61   \n",
      "662                 51                 59                 67   \n",
      "663                 26                 35                 40   \n",
      "664                 24                 27                 30   \n",
      "665                 40                 53                 65   \n",
      "\n",
      "     fixture_35_points  fixture_40_points  end_season_points  \n",
      "0                   51                 57                 57  \n",
      "2                   50                 54                 54  \n",
      "3                   39                 39                 39  \n",
      "4                   62                 65                 65  \n",
      "5                   70                 74                 74  \n",
      "..                 ...                ...                ...  \n",
      "658                 71                 77                 77  \n",
      "662                 77                 86                 86  \n",
      "663                 44                 50                 50  \n",
      "664                 34                 38                 38  \n",
      "665                 75                 79                 79  \n",
      "\n",
      "[460 rows x 9 columns]\n"
     ]
    }
   ],
   "execution_count": 136
  },
  {
   "metadata": {
    "ExecuteTime": {
     "end_time": "2024-11-19T20:29:58.690770Z",
     "start_time": "2024-11-19T20:29:58.678670Z"
    }
   },
   "cell_type": "code",
   "source": [
    "# add \"grades\" columns for each 5 fixtures - the success rate\n",
    "def add_success_rate(data):\n",
    "    max_fixtures = 40\n",
    "    # Add grades for each 5 fixtures\n",
    "    for i in range(5, max_fixtures+1, 5):\n",
    "        max_points = 3 * i\n",
    "        column_name = f'fixture_{i}_points'\n",
    "        grade_column = f'fixture_{i}_grade'\n",
    "        if column_name in data.columns:\n",
    "            data[grade_column] = data[column_name] / max_points\n",
    "\n",
    "    # Calculate end of season grade\n",
    "    data['end_season_grade'] = data['end_season_points'] / (3*(data['games_played_home'] + data['games_played_away']))\n",
    "\n",
    "    return data\n",
    "\n",
    "# Assuming updated_data is your DataFrame\n",
    "updated_data = add_success_rate(updated_data)\n",
    "print(updated_data[['fixture_5_grade', 'fixture_10_grade', 'fixture_15_grade', 'fixture_20_grade', 'fixture_25_grade', 'fixture_30_grade', 'fixture_35_grade', 'fixture_40_grade', 'end_season_grade']])\n"
   ],
   "id": "782401eff4f730a0",
   "outputs": [
    {
     "name": "stdout",
     "output_type": "stream",
     "text": [
      "     fixture_5_grade  fixture_10_grade  fixture_15_grade  fixture_20_grade  \\\n",
      "0           0.533333          0.500000          0.422222          0.483333   \n",
      "2           0.333333          0.400000          0.400000          0.400000   \n",
      "3           0.333333          0.433333          0.422222          0.433333   \n",
      "4           0.533333          0.666667          0.577778          0.633333   \n",
      "5           0.466667          0.666667          0.733333          0.683333   \n",
      "..               ...               ...               ...               ...   \n",
      "658         0.466667          0.533333          0.600000          0.650000   \n",
      "662         0.733333          0.866667          0.844444          0.850000   \n",
      "663         0.466667          0.400000          0.422222          0.433333   \n",
      "664         0.666667          0.433333          0.377778          0.400000   \n",
      "665         0.466667          0.466667          0.555556          0.666667   \n",
      "\n",
      "     fixture_25_grade  fixture_30_grade  fixture_35_grade  fixture_40_grade  \\\n",
      "0            0.506667          0.488889          0.485714          0.475000   \n",
      "2            0.413333          0.433333          0.476190          0.450000   \n",
      "3            0.400000          0.400000          0.371429          0.325000   \n",
      "4            0.640000          0.611111          0.590476          0.541667   \n",
      "5            0.666667          0.700000          0.666667          0.616667   \n",
      "..                ...               ...               ...               ...   \n",
      "658          0.640000          0.677778          0.676190          0.641667   \n",
      "662          0.786667          0.744444          0.733333          0.716667   \n",
      "663          0.466667          0.444444          0.419048          0.416667   \n",
      "664          0.360000          0.333333          0.323810          0.316667   \n",
      "665          0.706667          0.722222          0.714286          0.658333   \n",
      "\n",
      "     end_season_grade  \n",
      "0            0.500000  \n",
      "2            0.473684  \n",
      "3            0.342105  \n",
      "4            0.570175  \n",
      "5            0.649123  \n",
      "..                ...  \n",
      "658          0.675439  \n",
      "662          0.754386  \n",
      "663          0.438596  \n",
      "664          0.333333  \n",
      "665          0.692982  \n",
      "\n",
      "[460 rows x 9 columns]\n"
     ]
    }
   ],
   "execution_count": 138
  }
 ],
 "metadata": {
  "kernelspec": {
   "display_name": "Python 3",
   "language": "python",
   "name": "python3"
  },
  "language_info": {
   "codemirror_mode": {
    "name": "ipython",
    "version": 2
   },
   "file_extension": ".py",
   "mimetype": "text/x-python",
   "name": "python",
   "nbconvert_exporter": "python",
   "pygments_lexer": "ipython2",
   "version": "2.7.6"
  }
 },
 "nbformat": 4,
 "nbformat_minor": 5
}
