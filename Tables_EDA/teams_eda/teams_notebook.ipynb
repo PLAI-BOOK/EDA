{
 "cells": [
  {
   "cell_type": "code",
   "id": "initial_id",
   "metadata": {
    "collapsed": true,
    "ExecuteTime": {
     "end_time": "2024-11-19T20:12:00.656441Z",
     "start_time": "2024-11-19T20:12:00.646112Z"
    }
   },
   "source": [
    "# rerun if needed\n",
    "# %pip install pandas matplotlib seaborn\n",
    "\n",
    "import pandas as pd\n",
    "import matplotlib.pyplot as plt\n",
    "import matplotlib as mpl\n",
    "import seaborn as sns\n",
    "data = pd.read_csv('teams.csv')\n",
    "# all numeric columns\n",
    "numeric_data = data.select_dtypes(include='number')\n",
    "print(data.columns.tolist())"
   ],
   "outputs": [
    {
     "name": "stdout",
     "output_type": "stream",
     "text": [
      "['team_id', 'team_name', 'season', 'league_id', 'team_form', 'games_played_home', 'games_played_away', 'wins_home', 'losses_home', 'draws_home', 'wins_away', 'losses_away', 'draws_away', 'stadium_capacity', 'team_country', 'goals_scored_0_15', 'goals_scored_16_30', 'goals_scored_31_45', 'goals_scored_46_60', 'goals_scored_61_75', 'goals_scored_76_90', 'goals_scored_91_105', 'goals_scored_106_120', 'goals_conceded_0_15', 'goals_conceded_16_30', 'goals_conceded_31_45', 'goals_conceded_46_60', 'goals_conceded_61_75', 'goals_conceded_76_90', 'goals_conceded_91_105', 'goals_conceded_106_120', 'clean_sheets', 'failed_to_score', 'penalty_success_rate', 'over_0_5', 'under_0_5', 'over_1_5', 'under_1_5', 'over_2_5', 'under_2_5', 'over_3_5', 'under_3_5', 'over_4_5', 'under_4_5', 'yellow_cards_0_15', 'yellow_cards_16_30', 'yellow_cards_31_45', 'yellow_cards_46_60', 'yellow_cards_61_75', 'yellow_cards_76_90', 'yellow_cards_91_105', 'yellow_cards_106_120', 'red_cards_0_15', 'red_cards_16_30', 'red_cards_31_45', 'red_cards_46_60', 'red_cards_61_75', 'red_cards_76_90', 'red_cards_91_105', 'red_cards_106_120', 'lineups_per_game']\n"
     ]
    }
   ],
   "execution_count": 107
  },
  {
   "metadata": {
    "ExecuteTime": {
     "end_time": "2024-11-19T20:12:00.685363Z",
     "start_time": "2024-11-19T20:12:00.678679Z"
    }
   },
   "cell_type": "code",
   "source": [
    "# Count the number of missing values in each column\n",
    "missing_values = data.isnull().sum()\n",
    "# Filter and print only the columns with missing values greater than zero\n",
    "non_zero_missing = missing_values[missing_values > 0]\n",
    "print(non_zero_missing)"
   ],
   "id": "a77e16c5e7f6a80",
   "outputs": [
    {
     "name": "stdout",
     "output_type": "stream",
     "text": [
      "team_form           206\n",
      "team_country        666\n",
      "lineups_per_game    666\n",
      "dtype: int64\n"
     ]
    }
   ],
   "execution_count": 108
  },
  {
   "metadata": {
    "ExecuteTime": {
     "end_time": "2024-11-19T20:12:00.731769Z",
     "start_time": "2024-11-19T20:12:00.725331Z"
    }
   },
   "cell_type": "code",
   "source": [
    "# after finding 206 null team_forms - we'll delte those rows - this teams weren't in the league at this season\n",
    "\n",
    "# Assuming 'df' is your DataFrame\n",
    "updated_data = data.loc[~((data['games_played_home'] == 0) & \n",
    "                       (data['games_played_away'] == 0) & \n",
    "                       (data['wins_home'] == 0) & \n",
    "                       (data['losses_home'] == 0) & \n",
    "                       (data['draws_home'] == 0) & \n",
    "                       (data['wins_away'] == 0) & \n",
    "                       (data['losses_away'] == 0) & \n",
    "                       (data['draws_away'] == 0) & \n",
    "                       data['team_form'].isnull())]\n",
    "\n",
    "# remove the column lineups_per_game - it includes at each fixture\n",
    "updated_data = updated_data.drop(columns=['lineups_per_game'])\n",
    "\n",
    "#checking\n",
    "# Count the number of missing values in each column\n",
    "missing_values = updated_data.isnull().sum()\n",
    "# Filter and print only the columns with missing values greater than zero\n",
    "non_zero_missing = missing_values[missing_values > 0]\n",
    "print(non_zero_missing)\n",
    "\n",
    "\n"
   ],
   "id": "53472e5c604acf84",
   "outputs": [
    {
     "name": "stdout",
     "output_type": "stream",
     "text": [
      "team_country    460\n",
      "dtype: int64\n"
     ]
    }
   ],
   "execution_count": 109
  },
  {
   "metadata": {
    "ExecuteTime": {
     "end_time": "2024-11-19T20:12:00.759810Z",
     "start_time": "2024-11-19T20:12:00.752894Z"
    }
   },
   "cell_type": "code",
   "source": [
    "# create dict for each league and it's country to fill team_country\n",
    "\n",
    "team_country_dict = {39: 'England', 140:'Spain'}\n",
    "updated_data['team_country'] = updated_data['league_id'].map(team_country_dict)\n",
    "\n",
    "#checking\n",
    "# Count the number of missing values in each column\n",
    "missing_values = updated_data.isnull().sum()\n",
    "# Filter and print only the columns with missing values greater than zero\n",
    "non_zero_missing = missing_values[missing_values > 0]\n",
    "print(non_zero_missing)\n"
   ],
   "id": "1ec22eee7c140519",
   "outputs": [
    {
     "name": "stdout",
     "output_type": "stream",
     "text": [
      "Series([], dtype: int64)\n"
     ]
    }
   ],
   "execution_count": 110
  },
  {
   "metadata": {
    "ExecuteTime": {
     "end_time": "2024-11-19T20:12:00.784105Z",
     "start_time": "2024-11-19T20:12:00.778444Z"
    }
   },
   "cell_type": "code",
   "source": [
    "# check how many teams in each season\n",
    "# Group by 'season' and count unique 'team_id'\n",
    "team_count_per_season = updated_data.groupby('season')['team_id'].nunique()\n",
    "\n",
    "# Print the result\n",
    "print(team_count_per_season)"
   ],
   "id": "4d3b0ff36cbc178c",
   "outputs": [
    {
     "name": "stdout",
     "output_type": "stream",
     "text": [
      "season\n",
      "2010    20\n",
      "2011    20\n",
      "2012    20\n",
      "2013    20\n",
      "2014    20\n",
      "2015    20\n",
      "2016    20\n",
      "2017    40\n",
      "2018    40\n",
      "2019    40\n",
      "2020    40\n",
      "2021    40\n",
      "2022    40\n",
      "2023    40\n",
      "2024    40\n",
      "Name: team_id, dtype: int64\n"
     ]
    }
   ],
   "execution_count": 111
  },
  {
   "metadata": {},
   "cell_type": "markdown",
   "source": "Encode all the non numeric columns",
   "id": "9468ac3349188bc8"
  },
  {
   "metadata": {
    "ExecuteTime": {
     "end_time": "2024-11-19T20:12:00.824449Z",
     "start_time": "2024-11-19T20:12:00.819367Z"
    }
   },
   "cell_type": "code",
   "source": [
    "# print all the non numeric columns\n",
    "# Select columns that are non-numeric\n",
    "non_numeric_data = updated_data.select_dtypes(exclude='number')\n",
    "\n",
    "# Print the non-numeric data\n",
    "print(non_numeric_data.columns.tolist())\n",
    "\n",
    "# drop the column of team_name - we have team_id it's enough\n",
    "updated_data = updated_data.drop(columns=['team_name'])\n",
    "\n",
    "# drop games_played_home  games_played_away - not relevant - all teams play the same amount of games + it will have good indicator on the fixtures table\n",
    "updated_data = updated_data.drop(columns=['games_played_home','games_played_away'])\n"
   ],
   "id": "ca69cf2be7afcefa",
   "outputs": [
    {
     "name": "stdout",
     "output_type": "stream",
     "text": [
      "['team_name', 'team_form', 'team_country']\n"
     ]
    }
   ],
   "execution_count": 112
  },
  {
   "metadata": {},
   "cell_type": "markdown",
   "source": "",
   "id": "a774a72c583d8bd"
  },
  {
   "metadata": {
    "ExecuteTime": {
     "end_time": "2024-11-19T20:12:00.875481Z",
     "start_time": "2024-11-19T20:12:00.868705Z"
    }
   },
   "cell_type": "code",
   "source": [
    "# encode the team_country by get_dummies\n",
    "dummies = pd.get_dummies(updated_data['team_country'], prefix='team_country')\n",
    "#  include these dummy variables back into original DataFrame and drop the original column\n",
    "updated_data = pd.concat([updated_data, dummies], axis=1)\n",
    "updated_data.drop('team_country', axis=1, inplace=True)\n",
    "# convert in into int and not true/false\n",
    "dummy_cols = [col for col in updated_data.columns if any(prefix in col for prefix in ['team_country_'])]\n",
    "updated_data[dummy_cols] = updated_data[dummy_cols].astype(int)\n",
    "\n",
    "# To see the encoded DataFrame\n",
    "print(updated_data.columns.tolist())\n"
   ],
   "id": "db045618d19f1ce9",
   "outputs": [
    {
     "name": "stdout",
     "output_type": "stream",
     "text": [
      "['team_id', 'season', 'league_id', 'team_form', 'wins_home', 'losses_home', 'draws_home', 'wins_away', 'losses_away', 'draws_away', 'stadium_capacity', 'goals_scored_0_15', 'goals_scored_16_30', 'goals_scored_31_45', 'goals_scored_46_60', 'goals_scored_61_75', 'goals_scored_76_90', 'goals_scored_91_105', 'goals_scored_106_120', 'goals_conceded_0_15', 'goals_conceded_16_30', 'goals_conceded_31_45', 'goals_conceded_46_60', 'goals_conceded_61_75', 'goals_conceded_76_90', 'goals_conceded_91_105', 'goals_conceded_106_120', 'clean_sheets', 'failed_to_score', 'penalty_success_rate', 'over_0_5', 'under_0_5', 'over_1_5', 'under_1_5', 'over_2_5', 'under_2_5', 'over_3_5', 'under_3_5', 'over_4_5', 'under_4_5', 'yellow_cards_0_15', 'yellow_cards_16_30', 'yellow_cards_31_45', 'yellow_cards_46_60', 'yellow_cards_61_75', 'yellow_cards_76_90', 'yellow_cards_91_105', 'yellow_cards_106_120', 'red_cards_0_15', 'red_cards_16_30', 'red_cards_31_45', 'red_cards_46_60', 'red_cards_61_75', 'red_cards_76_90', 'red_cards_91_105', 'red_cards_106_120', 'team_country_England', 'team_country_Spain']\n"
     ]
    }
   ],
   "execution_count": 113
  },
  {
   "metadata": {},
   "cell_type": "markdown",
   "source": "to deal with team form - we will convert each form to ternary num and then to decimal - L=0,D=1,W=2",
   "id": "46b0b4864c89d6d8"
  },
  {
   "metadata": {
    "ExecuteTime": {
     "end_time": "2024-11-19T20:12:01.002498Z",
     "start_time": "2024-11-19T20:12:00.990727Z"
    }
   },
   "cell_type": "code",
   "source": [
    "# dict of LDW values\n",
    "form_dict = {'L':0, 'D':1, 'W':3}\n",
    "\n",
    "def process_team_form(row):\n",
    "    # Replace each character in the string according to the dictionary\n",
    "    form_numeric_string = ''.join(str(form_dict[char]) for char in row['team_form'])\n",
    "    return int(form_numeric_string)  \n",
    "\n",
    "updated_data_copy = updated_data.copy()\n",
    "\n",
    "# Apply the function to the DataFrame\n",
    "updated_data_copy['team_form_ternary'] = updated_data_copy.apply(process_team_form, axis=1)\n",
    "\n",
    "# update it on the origin df\n",
    "# Apply the function to the team_form column and create a new team_form_decimal column\n",
    "updated_data['team_form_ternary'] = updated_data_copy[['team_form_ternary']]\n",
    "\n",
    "# Drop the original team_form column\n",
    "updated_data.drop('team_form', axis=1, inplace=True)\n",
    "\n",
    "print(updated_data['team_form_ternary'])\n",
    "\n",
    "\n",
    "\n"
   ],
   "id": "2f3b617a9943343c",
   "outputs": [
    {
     "name": "stdout",
     "output_type": "stream",
     "text": [
      "0      10133133000100333013003331103103013330\n",
      "2      30101313000330003300003313311033131130\n",
      "3         10013013130300330013110113000303000\n",
      "4        331103330310113333031330301330030133\n",
      "5       3031033331331333130131131133333130013\n",
      "                        ...                  \n",
      "658    33100033303133130333333003313333301303\n",
      "662    31133333330333333331310313130133031333\n",
      "663    31003103101330000331131310011301003330\n",
      "664    31303010110031003301000030111010300031\n",
      "665    33100130303313133333331333333033031103\n",
      "Name: team_form_ternary, Length: 460, dtype: object\n"
     ]
    }
   ],
   "execution_count": 114
  },
  {
   "metadata": {},
   "cell_type": "markdown",
   "source": "normalize the integer values",
   "id": "865ae9d9a61d3fa8"
  },
  {
   "metadata": {
    "ExecuteTime": {
     "end_time": "2024-11-19T20:12:01.129649Z",
     "start_time": "2024-11-19T20:12:01.119276Z"
    }
   },
   "cell_type": "code",
   "source": [
    "print(updated_data.head())\n",
    "\n",
    "# normalize stadium capacity with min-max - between 0-1 - not standartization cause I can't assume it normally distribute\n",
    "from sklearn.preprocessing import MinMaxScaler\n",
    "\n",
    "# Create a MinMaxScaler object\n",
    "min_max_scaler = MinMaxScaler()\n",
    "\n",
    "# Fit and transform 'stadium_capacity'\n",
    "updated_data['stadium_capacity_normalized'] = min_max_scaler.fit_transform(updated_data[['stadium_capacity']])\n",
    "\n",
    "print(updated_data['stadium_capacity_normalized'])\n"
   ],
   "id": "3dbc3d0356648d67",
   "outputs": [
    {
     "name": "stdout",
     "output_type": "stream",
     "text": [
      "   team_id  season  league_id  wins_home  losses_home  draws_home  wins_away  \\\n",
      "0       39    2018         39         10            5           4          6   \n",
      "2       44    2019         39          8            7           4          7   \n",
      "3       44    2020         39          4            9           6          6   \n",
      "4       48    2020         39         10            5           4          9   \n",
      "5       33    2020         39          9            6           4         12   \n",
      "\n",
      "   losses_away  draws_away  stadium_capacity  ...  red_cards_16_30  \\\n",
      "0            8           5             34624  ...                1   \n",
      "2            7           5             22546  ...                0   \n",
      "3           10           3             22546  ...                0   \n",
      "4            6           4             62500  ...                0   \n",
      "5            0           7             76212  ...                1   \n",
      "\n",
      "   red_cards_31_45  red_cards_46_60  red_cards_61_75  red_cards_76_90  \\\n",
      "0                0                0                0                0   \n",
      "2                0                0                0                0   \n",
      "3                0                0                0                0   \n",
      "4                1                0                0                2   \n",
      "5                0                0                0                0   \n",
      "\n",
      "   red_cards_91_105  red_cards_106_120  team_country_England  \\\n",
      "0                 0                  0                     1   \n",
      "2                 0                  0                     1   \n",
      "3                 0                  0                     1   \n",
      "4                 0                  0                     1   \n",
      "5                 0                  0                     1   \n",
      "\n",
      "   team_country_Spain                       team_form_ternary  \n",
      "0                   0  10133133000100333013003331103103013330  \n",
      "2                   0  30101313000330003300003313311033131130  \n",
      "3                   0     10013013130300330013110113000303000  \n",
      "4                   0    331103330310113333031330301330030133  \n",
      "5                   0   3031033331331333130131131133333130013  \n",
      "\n",
      "[5 rows x 58 columns]\n",
      "0      0.343316\n",
      "2      0.187277\n",
      "3      0.187277\n",
      "4      0.703452\n",
      "5      0.880600\n",
      "         ...   \n",
      "658    0.524508\n",
      "662    0.806289\n",
      "663    0.412769\n",
      "664    0.120704\n",
      "665    0.618521\n",
      "Name: stadium_capacity_normalized, Length: 460, dtype: float64\n"
     ]
    }
   ],
   "execution_count": 115
  }
 ],
 "metadata": {
  "kernelspec": {
   "display_name": "Python 3",
   "language": "python",
   "name": "python3"
  },
  "language_info": {
   "codemirror_mode": {
    "name": "ipython",
    "version": 2
   },
   "file_extension": ".py",
   "mimetype": "text/x-python",
   "name": "python",
   "nbconvert_exporter": "python",
   "pygments_lexer": "ipython2",
   "version": "2.7.6"
  }
 },
 "nbformat": 4,
 "nbformat_minor": 5
}
