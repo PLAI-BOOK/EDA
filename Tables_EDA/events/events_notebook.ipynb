{
 "cells": [
  {
   "cell_type": "code",
   "id": "initial_id",
   "metadata": {
    "collapsed": true,
    "ExecuteTime": {
     "end_time": "2024-12-09T12:59:35.835924Z",
     "start_time": "2024-12-09T12:59:35.641296Z"
    }
   },
   "source": [
    "# rerun if needed\n",
    "# %pip install pandas matplotlib seaborn\n",
    "\n",
    "import pandas as pd\n",
    "import matplotlib.pyplot as plt\n",
    "import matplotlib as mpl\n",
    "import seaborn as sns\n",
    "data = pd.read_csv('merged_events.csv')\n",
    "# all numeric columns\n",
    "numeric_data = data.select_dtypes(include='number')\n",
    "print(data.columns.tolist())\n",
    "\n",
    "# check why the column of the event_time is mixed types\n",
    "# for col in data.columns:\n",
    "#     print(f\"The type of column {col} is {data[col].dtype}\")\n",
    "#     \n",
    "#     if col != \"event_time\":\n",
    "#         continue\n",
    "#     \n",
    "#     for idx, row in enumerate(data[col]):\n",
    "#         if not isinstance(row, int):\n",
    "#             print(f\"The type of row {row} (at index {idx}) is {type(row)}\")\n",
    "\n",
    "        "
   ],
   "outputs": [
    {
     "name": "stdout",
     "output_type": "stream",
     "text": [
      "['fixture_id', 'event_time', 'team_id', 'event_type', 'detailed_type', 'main_player_id', 'secondary_player_id']\n"
     ]
    },
    {
     "name": "stderr",
     "output_type": "stream",
     "text": [
      "C:\\Users\\peret\\AppData\\Local\\Temp\\ipykernel_15716\\2480587879.py:8: DtypeWarning: Columns (1) have mixed types. Specify dtype option on import or set low_memory=False.\n",
      "  data = pd.read_csv('merged_events.csv')\n"
     ]
    }
   ],
   "execution_count": 100
  },
  {
   "metadata": {
    "ExecuteTime": {
     "end_time": "2024-12-09T12:59:35.957811Z",
     "start_time": "2024-12-09T12:59:35.923785Z"
    }
   },
   "cell_type": "code",
   "source": [
    "# make all the data in column event_time to be string\n",
    "# Convert all values in the \"event_time\" column to strings\n",
    "data['event_time'] = data['event_time'].astype(str)"
   ],
   "id": "80a74882af1dfde",
   "outputs": [],
   "execution_count": 101
  },
  {
   "metadata": {
    "ExecuteTime": {
     "end_time": "2024-12-09T12:59:36.016370Z",
     "start_time": "2024-12-09T12:59:35.977064Z"
    }
   },
   "cell_type": "code",
   "source": [
    "# Count the number of missing values in each column\n",
    "missing_values = data.isnull().sum()\n",
    "# Filter and print only the columns with missing values greater than zero\n",
    "non_zero_missing = missing_values[missing_values > 0]\n",
    "print(non_zero_missing)\n",
    "# check how much rows in the db\n",
    "# num_rows = data.count()\n",
    "# print(num_rows)"
   ],
   "id": "cbe01d1b1673d99",
   "outputs": [
    {
     "name": "stdout",
     "output_type": "stream",
     "text": [
      "detailed_type               7\n",
      "main_player_id          74065\n",
      "secondary_player_id    162800\n",
      "dtype: int64\n"
     ]
    }
   ],
   "execution_count": 102
  },
  {
   "metadata": {
    "ExecuteTime": {
     "end_time": "2024-12-09T12:59:41.716691Z",
     "start_time": "2024-12-09T12:59:36.093020Z"
    }
   },
   "cell_type": "code",
   "source": [
    "# check that all the main player id missing is from types which not include players\n",
    "# Create a set to store `detailed_type` values where `main_player_id` is empty\n",
    "detailed_type_set = set()\n",
    "\n",
    "# Iterate through the rows where `main_player_id` is NaN or empty\n",
    "for idx, row in data.iterrows():\n",
    "    if pd.isna(row['main_player_id']) or row['main_player_id'] == '':\n",
    "        detailed_type_set.add(row['event_type'])\n",
    "\n",
    "# Display the resulting set\n",
    "print(detailed_type_set)\n",
    "\n",
    "# Filter rows where `main_player_id` is missing\n",
    "missing_main_player = data[data['main_player_id'].isna() | (data['main_player_id'] == '')]\n",
    "\n",
    "# Count the occurrences of each `detailed_type` for missing `main_player_id`\n",
    "missing_counts = missing_main_player['event_type'].value_counts()\n",
    "\n",
    "# Print the results\n",
    "for event_type, count in missing_counts.items():\n",
    "    print(f\"Missing values for event_type '{event_type}': {count}\")\n",
    "\n",
    "\n",
    "# after check randomly - the data is missing from the api \n",
    "# FormationSet,Possession,FormationChange is ok that we have missing values - it's not related to specific player\n",
    "# card missing values we will drop\n",
    "# subst and goal - it is importat to know that the event happe, but not who did it (at least for now) we will fill the main player as generic player with id 0\n",
    "\n"
   ],
   "id": "2587884fad9cd40a",
   "outputs": [
    {
     "name": "stdout",
     "output_type": "stream",
     "text": [
      "{'FormationSet', 'Possession', 'FormationChange', 'Goal', 'Card', 'subst'}\n",
      "Missing values for event_type 'Possession': 63990\n",
      "Missing values for event_type 'FormationChange': 6973\n",
      "Missing values for event_type 'FormationSet': 2998\n",
      "Missing values for event_type 'Card': 92\n",
      "Missing values for event_type 'subst': 11\n",
      "Missing values for event_type 'Goal': 1\n"
     ]
    }
   ],
   "execution_count": 103
  },
  {
   "metadata": {
    "ExecuteTime": {
     "end_time": "2024-12-09T12:59:49.354527Z",
     "start_time": "2024-12-09T12:59:41.807785Z"
    }
   },
   "cell_type": "code",
   "source": [
    "# Create a copy of the original data to work on\n",
    "updated_data = data.copy()\n",
    "\n",
    "# Filter rows where `main_player_id` is missing\n",
    "missing_main_player = updated_data[updated_data['main_player_id'].isna() | (updated_data['main_player_id'] == '')]\n",
    "\n",
    "# Count the missing occurrences for each `event_type`\n",
    "missing_counts = missing_main_player['event_type'].value_counts()\n",
    "print(\"Missing value counts by `event_type`:\")\n",
    "print(missing_counts)\n",
    "\n",
    "# Process the missing values based on your logic\n",
    "for idx, row in updated_data.iterrows():\n",
    "    if pd.isna(row['main_player_id']) or row['main_player_id'] == '':\n",
    "        event_type = row['event_type']\n",
    "\n",
    "        if event_type in {\"FormationSet\", \"Possession\", \"FormationChange\"}:\n",
    "            # It's okay to have missing values, so do nothing\n",
    "            continue\n",
    "\n",
    "        elif event_type == \"Card\":\n",
    "            # Drop rows with `event_type` as \"card\"\n",
    "            updated_data.drop(index=idx, inplace=True)\n",
    "\n",
    "        elif event_type in {\"subst\", \"Goal\"}:\n",
    "            # Replace missing `main_player_id` with a generic player ID (0)\n",
    "            updated_data.at[idx, 'main_player_id'] = 0\n",
    "\n",
    "# Reset the index of the updated DataFrame after dropping rows\n",
    "updated_data.reset_index(drop=True, inplace=True)\n",
    "\n",
    "# Verify the results\n",
    "print(\"Processing complete. Updated DataFrame:\")\n",
    "print(updated_data.head())\n",
    "\n",
    "# Filter rows where `main_player_id` is missing\n",
    "missing_main_player = updated_data[updated_data['main_player_id'].isna() | (updated_data['main_player_id'] == '')]\n",
    "\n",
    "# Count the missing occurrences for each `event_type`\n",
    "missing_counts = missing_main_player['event_type'].value_counts()\n",
    "print(\"Missing main player value counts by `event_type`:\")\n",
    "print(missing_counts)\n"
   ],
   "id": "6ce62d6642b4fcaf",
   "outputs": [
    {
     "name": "stdout",
     "output_type": "stream",
     "text": [
      "Missing value counts by `event_type`:\n",
      "event_type\n",
      "Possession         63990\n",
      "FormationChange     6973\n",
      "FormationSet        2998\n",
      "Card                  92\n",
      "subst                 11\n",
      "Goal                   1\n",
      "Name: count, dtype: int64\n",
      "Processing complete. Updated DataFrame:\n",
      "   fixture_id event_time  team_id event_type   detailed_type  main_player_id  \\\n",
      "0     1208127         20       40       Goal     Normal Goal         51617.0   \n",
      "1     1208127         25       40      subst  Substitution 1        180317.0   \n",
      "2     1208127         34       66       Card     Yellow Card         19170.0   \n",
      "3     1208127         45       66      subst  Substitution 1         19191.0   \n",
      "4     1208127         45       66       Card     Yellow Card          2926.0   \n",
      "\n",
      "   secondary_player_id  \n",
      "0                306.0  \n",
      "1                283.0  \n",
      "2                  NaN  \n",
      "3              19192.0  \n",
      "4                  NaN  \n",
      "Missing main player value counts by `event_type`:\n",
      "event_type\n",
      "Possession         63990\n",
      "FormationChange     6973\n",
      "FormationSet        2998\n",
      "Name: count, dtype: int64\n"
     ]
    }
   ],
   "execution_count": 104
  },
  {
   "metadata": {
    "ExecuteTime": {
     "end_time": "2024-12-09T12:59:49.511685Z",
     "start_time": "2024-12-09T12:59:49.395836Z"
    }
   },
   "cell_type": "code",
   "source": [
    "# Function to process the `event_time` column\n",
    "def process_event_time(value):\n",
    "    try:\n",
    "        if value.isdigit():\n",
    "            # If the value is a number as a string, convert it to an integer\n",
    "            return int(value)\n",
    "        # Check if the value is a negative number as a string\n",
    "        elif value.lstrip('-').isdigit():\n",
    "            return int(value)\n",
    "        elif '+' in value:\n",
    "            base, extra = value.split('+')\n",
    "            if base == \"90\":\n",
    "                # For \"90+something\", return the integer sum\n",
    "                return int(base) + int(extra)\n",
    "            elif base == \"45\":\n",
    "                # For \"45+something\", return a float \"45.something\"\n",
    "                return float(f\"{base}.{extra}\")\n",
    "        else:\n",
    "            raise ValueError(f\"Unexpected format: {value}\")\n",
    "    except Exception as e:\n",
    "        print(f\"Error processing value '{value}': {e}\")\n",
    "        return None  # Return None for invalid cases\n",
    "\n",
    "# Apply the function to the `event_time` column in the updated_data DataFrame\n",
    "updated_data['event_time'] = updated_data['event_time'].apply(process_event_time)\n",
    "\n",
    "# Verify the results\n",
    "print(\"Processed DataFrame (updated_data):\")\n",
    "print(updated_data.head())\n",
    "\n",
    "\n",
    "# Count the number of non-integer values in the event_time column\n",
    "non_float_count = updated_data['event_time'].apply(lambda x: not isinstance(x, float)).sum()\n",
    "\n",
    "print(f\"Number of non-float values in the 'event_time' column: {non_float_count}\")\n",
    "\n"
   ],
   "id": "debad72037142beb",
   "outputs": [
    {
     "name": "stdout",
     "output_type": "stream",
     "text": [
      "Processed DataFrame (updated_data):\n",
      "   fixture_id  event_time  team_id event_type   detailed_type  main_player_id  \\\n",
      "0     1208127        20.0       40       Goal     Normal Goal         51617.0   \n",
      "1     1208127        25.0       40      subst  Substitution 1        180317.0   \n",
      "2     1208127        34.0       66       Card     Yellow Card         19170.0   \n",
      "3     1208127        45.0       66      subst  Substitution 1         19191.0   \n",
      "4     1208127        45.0       66       Card     Yellow Card          2926.0   \n",
      "\n",
      "   secondary_player_id  \n",
      "0                306.0  \n",
      "1                283.0  \n",
      "2                  NaN  \n",
      "3              19192.0  \n",
      "4                  NaN  \n",
      "Number of non-float values in the 'event_time' column: 0\n"
     ]
    }
   ],
   "execution_count": 105
  },
  {
   "metadata": {
    "ExecuteTime": {
     "end_time": "2024-12-09T12:59:59.857686Z",
     "start_time": "2024-12-09T12:59:49.545241Z"
    }
   },
   "cell_type": "code",
   "source": [
    "# Create a dictionary to store counts of event types with `event_time < 0`\n",
    "negative_event_time_dict = {}\n",
    "\n",
    "# Iterate over rows where `event_time` is less than 0\n",
    "for idx, row in updated_data.iterrows():\n",
    "    if row['event_time'] < 0:\n",
    "        event_type = row['event_type']\n",
    "        # Increment the count for the event type in the dictionary\n",
    "        if event_type in negative_event_time_dict:\n",
    "            negative_event_time_dict[event_type] += 1\n",
    "        else:\n",
    "            negative_event_time_dict[event_type] = 1\n",
    "\n",
    "# Print the dictionary\n",
    "print(negative_event_time_dict)\n",
    "print(\"Counts of rows with `event_time < 0` by `event_type`:\")\n",
    "for event_type, count in negative_event_time_dict.items():\n",
    "    print(f\"{event_type}: {count}\")\n",
    "\n",
    "\n",
    "# we will drop the rows if the type is card else we will check based on the number of problematic values\n",
    "# Count the number of rows that match the condition\n",
    "rows_to_delete = updated_data[(updated_data['event_time'] < 0) & (updated_data['event_type'] == \"Card\")].shape[0]\n",
    "\n",
    "# Drop rows where `event_time` < 0 and `event_type` is \"Card\"\n",
    "updated_data = updated_data[~((updated_data['event_time'] < 0) & (updated_data['event_type'] == \"Card\"))]\n",
    "\n",
    "# Reset the index of the DataFrame after dropping rows\n",
    "updated_data.reset_index(drop=True, inplace=True)\n",
    "\n",
    "# Print the number of rows deleted\n",
    "print(f\"Number of rows deleted: {rows_to_delete}\")\n",
    "\n",
    "# check if it indeed delete\n",
    "# Create a dictionary to store counts of event types with `event_time < 0`\n",
    "negative_event_time_dict = {}\n",
    "\n",
    "# Iterate over rows where `event_time` is less than 0\n",
    "for idx, row in updated_data.iterrows():\n",
    "    if row['event_time'] < 0:\n",
    "        event_type = row['event_type']\n",
    "        # Increment the count for the event type in the dictionary\n",
    "        if event_type in negative_event_time_dict:\n",
    "            negative_event_time_dict[event_type] += 1\n",
    "        else:\n",
    "            negative_event_time_dict[event_type] = 1\n",
    "\n",
    "# Print the dictionary\n",
    "print(negative_event_time_dict)\n",
    "print(\"Counts of rows with `event_time < 0` by `event_type`:\")\n",
    "for event_type, count in negative_event_time_dict.items():\n",
    "    print(f\"{event_type}: {count}\")"
   ],
   "id": "db71a882b9d266dd",
   "outputs": [
    {
     "name": "stdout",
     "output_type": "stream",
     "text": [
      "{'Card': 319}\n",
      "Counts of rows with `event_time < 0` by `event_type`:\n",
      "Card: 319\n",
      "Number of rows deleted: 319\n",
      "{}\n",
      "Counts of rows with `event_time < 0` by `event_type`:\n"
     ]
    }
   ],
   "execution_count": 106
  },
  {
   "metadata": {
    "ExecuteTime": {
     "end_time": "2024-12-09T12:59:59.901607Z",
     "start_time": "2024-12-09T12:59:59.885452Z"
    }
   },
   "cell_type": "code",
   "source": [
    "# every missing secondary player we will fill with the \"default\" player - 0\n",
    "# Fill NaN values in the 'secondary_player' column with 0\n",
    "updated_data['secondary_player_id'] = updated_data['secondary_player_id'].fillna(0)\n",
    "\n",
    "# Verify the changes\n",
    "print(\"Updated DataFrame with 'secondary_player_id' NaN values filled:\")\n",
    "print(updated_data.head())"
   ],
   "id": "b83c5797f11d003d",
   "outputs": [
    {
     "name": "stdout",
     "output_type": "stream",
     "text": [
      "Updated DataFrame with 'secondary_player_id' NaN values filled:\n",
      "   fixture_id  event_time  team_id event_type   detailed_type  main_player_id  \\\n",
      "0     1208127        20.0       40       Goal     Normal Goal         51617.0   \n",
      "1     1208127        25.0       40      subst  Substitution 1        180317.0   \n",
      "2     1208127        34.0       66       Card     Yellow Card         19170.0   \n",
      "3     1208127        45.0       66      subst  Substitution 1         19191.0   \n",
      "4     1208127        45.0       66       Card     Yellow Card          2926.0   \n",
      "\n",
      "   secondary_player_id  \n",
      "0                306.0  \n",
      "1                283.0  \n",
      "2                  0.0  \n",
      "3              19192.0  \n",
      "4                  0.0  \n"
     ]
    }
   ],
   "execution_count": 107
  },
  {
   "metadata": {
    "ExecuteTime": {
     "end_time": "2024-12-09T13:00:02.055817Z",
     "start_time": "2024-12-09T12:59:59.929593Z"
    }
   },
   "cell_type": "code",
   "source": [
    "# Step 1: Create a new column for possession_detailed_type\n",
    "updated_data['possession_detailed_type'] = updated_data.apply(\n",
    "    lambda row: row['detailed_type'] if row['event_type'] == 'Possession' else 0, axis=1\n",
    ")\n",
    "\n",
    "# Step 2: Update the `detailed_type` column to 0 where `event_type` is `Possession`\n",
    "updated_data['detailed_type'] = updated_data.apply(\n",
    "    lambda row: 0 if row['event_type'] == 'Possession' else row['detailed_type'], axis=1\n",
    ")\n",
    "\n",
    "# Display the updated DataFrame\n",
    "print(updated_data.head())"
   ],
   "id": "41798c85fd96fdf4",
   "outputs": [
    {
     "name": "stdout",
     "output_type": "stream",
     "text": [
      "   fixture_id  event_time  team_id event_type   detailed_type  main_player_id  \\\n",
      "0     1208127        20.0       40       Goal     Normal Goal         51617.0   \n",
      "1     1208127        25.0       40      subst  Substitution 1        180317.0   \n",
      "2     1208127        34.0       66       Card     Yellow Card         19170.0   \n",
      "3     1208127        45.0       66      subst  Substitution 1         19191.0   \n",
      "4     1208127        45.0       66       Card     Yellow Card          2926.0   \n",
      "\n",
      "   secondary_player_id possession_detailed_type  \n",
      "0                306.0                        0  \n",
      "1                283.0                        0  \n",
      "2                  0.0                        0  \n",
      "3              19192.0                        0  \n",
      "4                  0.0                        0  \n"
     ]
    }
   ],
   "execution_count": 108
  },
  {
   "metadata": {
    "ExecuteTime": {
     "end_time": "2024-12-09T13:00:02.154644Z",
     "start_time": "2024-12-09T13:00:02.085374Z"
    }
   },
   "cell_type": "code",
   "source": [
    "# do one hot encoding to the event type columns\n",
    "# Step 1: Perform One-Hot Encoding on the `event_type` column\n",
    "event_type_encoded = pd.get_dummies(updated_data['event_type'], prefix='event_type')\n",
    "# Step 2: Merge the one-hot encoded columns back to the original DataFrame\n",
    "updated_data = pd.concat([updated_data, event_type_encoded], axis=1)\n",
    "updated_data.drop(columns=['event_type'], inplace=True)\n",
    "# convert in into int and not true/false\n",
    "dummy_cols = [col for col in updated_data.columns if any(prefix in col for prefix in ['event_type_'])]\n",
    "updated_data[dummy_cols] = updated_data[dummy_cols].astype(int)\n",
    "\n",
    "# Display the updated DataFrame\n",
    "print(updated_data.head())"
   ],
   "id": "3259bd903415f446",
   "outputs": [
    {
     "name": "stdout",
     "output_type": "stream",
     "text": [
      "   fixture_id  event_time  team_id   detailed_type  main_player_id  \\\n",
      "0     1208127        20.0       40     Normal Goal         51617.0   \n",
      "1     1208127        25.0       40  Substitution 1        180317.0   \n",
      "2     1208127        34.0       66     Yellow Card         19170.0   \n",
      "3     1208127        45.0       66  Substitution 1         19191.0   \n",
      "4     1208127        45.0       66     Yellow Card          2926.0   \n",
      "\n",
      "   secondary_player_id possession_detailed_type  event_type_Card  \\\n",
      "0                306.0                        0                0   \n",
      "1                283.0                        0                0   \n",
      "2                  0.0                        0                1   \n",
      "3              19192.0                        0                0   \n",
      "4                  0.0                        0                1   \n",
      "\n",
      "   event_type_FormationChange  event_type_FormationSet  event_type_Goal  \\\n",
      "0                           0                        0                1   \n",
      "1                           0                        0                0   \n",
      "2                           0                        0                0   \n",
      "3                           0                        0                0   \n",
      "4                           0                        0                0   \n",
      "\n",
      "   event_type_Possession  event_type_Var  event_type_subst  \n",
      "0                      0               0                 0  \n",
      "1                      0               0                 1  \n",
      "2                      0               0                 0  \n",
      "3                      0               0                 1  \n",
      "4                      0               0                 0  \n"
     ]
    }
   ],
   "execution_count": 109
  },
  {
   "metadata": {
    "ExecuteTime": {
     "end_time": "2024-12-09T13:00:02.330582Z",
     "start_time": "2024-12-09T13:00:02.180196Z"
    }
   },
   "cell_type": "code",
   "source": [
    "# do one hot encoding to the event type columns\n",
    "# Step 1: Perform One-Hot Encoding on the `event_type` column\n",
    "detailed_type_encoded = pd.get_dummies(updated_data['detailed_type'], prefix='detailed_type')\n",
    "# Step 2: Merge the one-hot encoded columns back to the original DataFrame\n",
    "updated_data = pd.concat([updated_data, detailed_type_encoded], axis=1)\n",
    "updated_data.drop(columns=['detailed_type'], inplace=True)\n",
    "# convert in into int and not true/false\n",
    "dummy_cols = [col for col in updated_data.columns if any(prefix in col for prefix in ['detailed_type_'])]\n",
    "updated_data[dummy_cols] = updated_data[dummy_cols].astype(int)\n",
    "\n",
    "# Display the updated DataFrame\n",
    "print(updated_data.head())"
   ],
   "id": "ee498633a363d05e",
   "outputs": [
    {
     "name": "stdout",
     "output_type": "stream",
     "text": [
      "   fixture_id  event_time  team_id  main_player_id  secondary_player_id  \\\n",
      "0     1208127        20.0       40         51617.0                306.0   \n",
      "1     1208127        25.0       40        180317.0                283.0   \n",
      "2     1208127        34.0       66         19170.0                  0.0   \n",
      "3     1208127        45.0       66         19191.0              19192.0   \n",
      "4     1208127        45.0       66          2926.0                  0.0   \n",
      "\n",
      "  possession_detailed_type  event_type_Card  event_type_FormationChange  \\\n",
      "0                        0                0                           0   \n",
      "1                        0                0                           0   \n",
      "2                        0                1                           0   \n",
      "3                        0                0                           0   \n",
      "4                        0                1                           0   \n",
      "\n",
      "   event_type_FormationSet  event_type_Goal  ...  \\\n",
      "0                        0                1  ...   \n",
      "1                        0                0  ...   \n",
      "2                        0                0  ...   \n",
      "3                        0                0  ...   \n",
      "4                        0                0  ...   \n",
      "\n",
      "   detailed_type_Red card cancelled  detailed_type_Substitution 1  \\\n",
      "0                                 0                             0   \n",
      "1                                 0                             1   \n",
      "2                                 0                             0   \n",
      "3                                 0                             1   \n",
      "4                                 0                             0   \n",
      "\n",
      "   detailed_type_Substitution 2  detailed_type_Substitution 3  \\\n",
      "0                             0                             0   \n",
      "1                             0                             0   \n",
      "2                             0                             0   \n",
      "3                             0                             0   \n",
      "4                             0                             0   \n",
      "\n",
      "   detailed_type_Substitution 4  detailed_type_Substitution 5  \\\n",
      "0                             0                             0   \n",
      "1                             0                             0   \n",
      "2                             0                             0   \n",
      "3                             0                             0   \n",
      "4                             0                             0   \n",
      "\n",
      "   detailed_type_Substitution 6  detailed_type_Substitution 8  \\\n",
      "0                             0                             0   \n",
      "1                             0                             0   \n",
      "2                             0                             0   \n",
      "3                             0                             0   \n",
      "4                             0                             0   \n",
      "\n",
      "   detailed_type_Substitution 9  detailed_type_Yellow Card  \n",
      "0                             0                          0  \n",
      "1                             0                          0  \n",
      "2                             0                          1  \n",
      "3                             0                          0  \n",
      "4                             0                          1  \n",
      "\n",
      "[5 rows x 62 columns]\n"
     ]
    }
   ],
   "execution_count": 110
  },
  {
   "metadata": {
    "ExecuteTime": {
     "end_time": "2024-12-09T13:00:02.630334Z",
     "start_time": "2024-12-09T13:00:02.621606Z"
    }
   },
   "cell_type": "code",
   "source": [
    "# Identify columns with non-numeric values\n",
    "non_numeric_columns = []\n",
    "\n",
    "for col in updated_data.columns:\n",
    "    if not pd.api.types.is_numeric_dtype(updated_data[col]):\n",
    "        non_numeric_columns.append(col)\n",
    "\n",
    "# Print the columns with non-numeric values\n",
    "print(\"Columns with non-numeric values:\")\n",
    "for col in non_numeric_columns:\n",
    "    print(col)\n"
   ],
   "id": "50e8861cf25639ae",
   "outputs": [
    {
     "name": "stdout",
     "output_type": "stream",
     "text": [
      "Columns with non-numeric values:\n",
      "possession_detailed_type\n",
      "event_type_FormationChange\n",
      "event_type_FormationSet\n"
     ]
    }
   ],
   "execution_count": 112
  },
  {
   "metadata": {
    "ExecuteTime": {
     "end_time": "2024-12-09T13:00:02.750917Z",
     "start_time": "2024-12-09T13:00:02.705320Z"
    }
   },
   "cell_type": "code",
   "source": [
    "# Identify and print non-numeric values in the `possession_detailed_type` column\n",
    "non_numeric_values = updated_data['possession_detailed_type'][~updated_data['possession_detailed_type'].apply(lambda x: isinstance(x, (int, float)))]\n",
    "\n",
    "print(\"Non-numeric values in `possession_detailed_type` column:\")\n",
    "print(non_numeric_values)\n"
   ],
   "id": "bac4a213ce849e70",
   "outputs": [
    {
     "name": "stdout",
     "output_type": "stream",
     "text": [
      "Non-numeric values in `possession_detailed_type` column:\n",
      "228883    58.4\n",
      "228884    41.6\n",
      "228885    58.3\n",
      "228886    41.7\n",
      "228887    56.7\n",
      "          ... \n",
      "302836    22.0\n",
      "302837    81.0\n",
      "302838    19.0\n",
      "302839    83.8\n",
      "302840    16.3\n",
      "Name: possession_detailed_type, Length: 63990, dtype: object\n"
     ]
    }
   ],
   "execution_count": 113
  },
  {
   "metadata": {
    "ExecuteTime": {
     "end_time": "2024-12-09T13:00:03.001795Z",
     "start_time": "2024-12-09T13:00:02.953904Z"
    }
   },
   "cell_type": "code",
   "source": [
    "# Function to convert values to float\n",
    "def to_float(value):\n",
    "    try:\n",
    "        # Attempt to convert the value to float\n",
    "        return float(value)\n",
    "    except (ValueError, TypeError):\n",
    "        # Handle non-numeric values gracefully\n",
    "        return None  # Or you can set a default value like 0.0\n",
    "\n",
    "# Apply the function to the `possession_detailed_type` column\n",
    "updated_data['possession_detailed_type'] = updated_data['possession_detailed_type'].apply(to_float)\n",
    "\n",
    "# Print the updated column to verify\n",
    "print(\"Updated `possession_detailed_type` column:\")\n",
    "print(updated_data['possession_detailed_type'])\n"
   ],
   "id": "a2619f85bd6fdfe4",
   "outputs": [
    {
     "name": "stdout",
     "output_type": "stream",
     "text": [
      "Updated `possession_detailed_type` column:\n",
      "0          0.0\n",
      "1          0.0\n",
      "2          0.0\n",
      "3          0.0\n",
      "4          0.0\n",
      "          ... \n",
      "302836    22.0\n",
      "302837    81.0\n",
      "302838    19.0\n",
      "302839    83.8\n",
      "302840    16.3\n",
      "Name: possession_detailed_type, Length: 302841, dtype: float64\n"
     ]
    }
   ],
   "execution_count": 114
  },
  {
   "metadata": {
    "ExecuteTime": {
     "end_time": "2024-12-09T13:00:03.119979Z",
     "start_time": "2024-12-09T13:00:03.098056Z"
    }
   },
   "cell_type": "code",
   "source": "print(updated_data.columns.to_list())",
   "id": "12813f7459fe55f4",
   "outputs": [
    {
     "name": "stdout",
     "output_type": "stream",
     "text": [
      "['fixture_id', 'event_time', 'team_id', 'main_player_id', 'secondary_player_id', 'possession_detailed_type', 'event_type_Card', 'event_type_FormationChange', 'event_type_FormationSet', 'event_type_Goal', 'event_type_Possession', 'event_type_Var', 'event_type_subst', 'detailed_type_0', 'detailed_type_18', 'detailed_type_19', 'detailed_type_20', 'detailed_type_21', 'detailed_type_22', 'detailed_type_24', 'detailed_type_25', 'detailed_type_3', 'detailed_type_3-4-2-1', 'detailed_type_3-4-3', 'detailed_type_3-5-1-1', 'detailed_type_3-5-2', 'detailed_type_4-1-4-1', 'detailed_type_4-2-2-2', 'detailed_type_4-2-3-1', 'detailed_type_4-3-1-2', 'detailed_type_4-3-3', 'detailed_type_4-4-1-1', 'detailed_type_4-4-2', 'detailed_type_5', 'detailed_type_5-3-2', 'detailed_type_5-4-1', 'detailed_type_9', 'detailed_type_Card reviewed', 'detailed_type_Card upgrade', 'detailed_type_Goal Disallowed - Foul', 'detailed_type_Goal Disallowed - handball', 'detailed_type_Goal Disallowed - offside', 'detailed_type_Goal cancelled', 'detailed_type_Goal confirmed', 'detailed_type_Missed Penalty', 'detailed_type_Normal Goal', 'detailed_type_Own Goal', 'detailed_type_Penalty', 'detailed_type_Penalty awarded', 'detailed_type_Penalty cancelled', 'detailed_type_Penalty confirmed', 'detailed_type_Red Card', 'detailed_type_Red card cancelled', 'detailed_type_Substitution 1', 'detailed_type_Substitution 2', 'detailed_type_Substitution 3', 'detailed_type_Substitution 4', 'detailed_type_Substitution 5', 'detailed_type_Substitution 6', 'detailed_type_Substitution 8', 'detailed_type_Substitution 9', 'detailed_type_Yellow Card']\n"
     ]
    }
   ],
   "execution_count": 115
  }
 ],
 "metadata": {
  "kernelspec": {
   "display_name": "Python 3",
   "language": "python",
   "name": "python3"
  },
  "language_info": {
   "codemirror_mode": {
    "name": "ipython",
    "version": 2
   },
   "file_extension": ".py",
   "mimetype": "text/x-python",
   "name": "python",
   "nbconvert_exporter": "python",
   "pygments_lexer": "ipython2",
   "version": "2.7.6"
  }
 },
 "nbformat": 4,
 "nbformat_minor": 5
}
