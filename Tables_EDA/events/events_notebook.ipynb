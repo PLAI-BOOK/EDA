{
 "cells": [
  {
   "cell_type": "code",
   "id": "initial_id",
   "metadata": {
    "collapsed": true,
    "ExecuteTime": {
     "end_time": "2024-12-08T22:04:11.803478Z",
     "start_time": "2024-12-08T22:04:11.654362Z"
    }
   },
   "source": [
    "# rerun if needed\n",
    "# %pip install pandas matplotlib seaborn\n",
    "\n",
    "import pandas as pd\n",
    "import matplotlib.pyplot as plt\n",
    "import matplotlib as mpl\n",
    "import seaborn as sns\n",
    "data = pd.read_csv('merged_events.csv')\n",
    "# all numeric columns\n",
    "numeric_data = data.select_dtypes(include='number')\n",
    "print(data.columns.tolist())\n",
    "\n",
    "# check why the column of the event_time is mixed types\n",
    "# for col in data.columns:\n",
    "#     print(f\"The type of column {col} is {data[col].dtype}\")\n",
    "#     \n",
    "#     if col != \"event_time\":\n",
    "#         continue\n",
    "#     \n",
    "#     for idx, row in enumerate(data[col]):\n",
    "#         if not isinstance(row, int):\n",
    "#             print(f\"The type of row {row} (at index {idx}) is {type(row)}\")\n",
    "\n",
    "        "
   ],
   "outputs": [
    {
     "name": "stdout",
     "output_type": "stream",
     "text": [
      "['fixture_id', 'event_time', 'team_id', 'event_type', 'detailed_type', 'main_player_id', 'secondary_player_id']\n"
     ]
    },
    {
     "name": "stderr",
     "output_type": "stream",
     "text": [
      "C:\\Users\\peret\\AppData\\Local\\Temp\\ipykernel_15716\\2480587879.py:8: DtypeWarning: Columns (1) have mixed types. Specify dtype option on import or set low_memory=False.\n",
      "  data = pd.read_csv('merged_events.csv')\n"
     ]
    }
   ],
   "execution_count": 37
  },
  {
   "metadata": {
    "ExecuteTime": {
     "end_time": "2024-12-08T22:04:11.838106Z",
     "start_time": "2024-12-08T22:04:11.818888Z"
    }
   },
   "cell_type": "code",
   "source": [
    "# make all the data in column event_time to be string\n",
    "# Convert all values in the \"event_time\" column to strings\n",
    "data['event_time'] = data['event_time'].astype(str)"
   ],
   "id": "80a74882af1dfde",
   "outputs": [],
   "execution_count": 38
  },
  {
   "metadata": {
    "ExecuteTime": {
     "end_time": "2024-12-08T22:04:11.900968Z",
     "start_time": "2024-12-08T22:04:11.866949Z"
    }
   },
   "cell_type": "code",
   "source": [
    "# Count the number of missing values in each column\n",
    "missing_values = data.isnull().sum()\n",
    "# Filter and print only the columns with missing values greater than zero\n",
    "non_zero_missing = missing_values[missing_values > 0]\n",
    "print(non_zero_missing)\n",
    "# check how much rows in the db\n",
    "# num_rows = data.count()\n",
    "# print(num_rows)"
   ],
   "id": "cbe01d1b1673d99",
   "outputs": [
    {
     "name": "stdout",
     "output_type": "stream",
     "text": [
      "detailed_type               7\n",
      "main_player_id          74065\n",
      "secondary_player_id    162800\n",
      "dtype: int64\n"
     ]
    }
   ],
   "execution_count": 39
  },
  {
   "metadata": {
    "ExecuteTime": {
     "end_time": "2024-12-08T22:04:17.345648Z",
     "start_time": "2024-12-08T22:04:12.133892Z"
    }
   },
   "cell_type": "code",
   "source": [
    "# check that all the main player id missing is from types which not include players\n",
    "# Create a set to store `detailed_type` values where `main_player_id` is empty\n",
    "detailed_type_set = set()\n",
    "\n",
    "# Iterate through the rows where `main_player_id` is NaN or empty\n",
    "for idx, row in data.iterrows():\n",
    "    if pd.isna(row['main_player_id']) or row['main_player_id'] == '':\n",
    "        detailed_type_set.add(row['event_type'])\n",
    "\n",
    "# Display the resulting set\n",
    "print(detailed_type_set)\n",
    "\n",
    "# Filter rows where `main_player_id` is missing\n",
    "missing_main_player = data[data['main_player_id'].isna() | (data['main_player_id'] == '')]\n",
    "\n",
    "# Count the occurrences of each `detailed_type` for missing `main_player_id`\n",
    "missing_counts = missing_main_player['event_type'].value_counts()\n",
    "\n",
    "# Print the results\n",
    "for event_type, count in missing_counts.items():\n",
    "    print(f\"Missing values for event_type '{event_type}': {count}\")\n",
    "\n",
    "\n",
    "# after check randomly - the data is missing from the api \n",
    "# FormationSet,Possession,FormationChange is ok that we have missing values - it's not related to specific player\n",
    "# card missing values we will drop\n",
    "# subst and goal - it is importat to know that the event happe, but not who did it (at least for now) we will fill the main player as generic player with id 0\n",
    "\n"
   ],
   "id": "2587884fad9cd40a",
   "outputs": [
    {
     "name": "stdout",
     "output_type": "stream",
     "text": [
      "{'FormationSet', 'Possession', 'FormationChange', 'Goal', 'Card', 'subst'}\n",
      "Missing values for event_type 'Possession': 63990\n",
      "Missing values for event_type 'FormationChange': 6973\n",
      "Missing values for event_type 'FormationSet': 2998\n",
      "Missing values for event_type 'Card': 92\n",
      "Missing values for event_type 'subst': 11\n",
      "Missing values for event_type 'Goal': 1\n"
     ]
    }
   ],
   "execution_count": 40
  },
  {
   "metadata": {
    "ExecuteTime": {
     "end_time": "2024-12-08T22:04:24.160410Z",
     "start_time": "2024-12-08T22:04:17.377868Z"
    }
   },
   "cell_type": "code",
   "source": [
    "# Create a copy of the original data to work on\n",
    "updated_data = data.copy()\n",
    "\n",
    "# Filter rows where `main_player_id` is missing\n",
    "missing_main_player = updated_data[updated_data['main_player_id'].isna() | (updated_data['main_player_id'] == '')]\n",
    "\n",
    "# Count the missing occurrences for each `event_type`\n",
    "missing_counts = missing_main_player['event_type'].value_counts()\n",
    "print(\"Missing value counts by `event_type`:\")\n",
    "print(missing_counts)\n",
    "\n",
    "# Process the missing values based on your logic\n",
    "for idx, row in updated_data.iterrows():\n",
    "    if pd.isna(row['main_player_id']) or row['main_player_id'] == '':\n",
    "        event_type = row['event_type']\n",
    "\n",
    "        if event_type in {\"FormationSet\", \"Possession\", \"FormationChange\"}:\n",
    "            # It's okay to have missing values, so do nothing\n",
    "            continue\n",
    "\n",
    "        elif event_type == \"Card\":\n",
    "            # Drop rows with `event_type` as \"card\"\n",
    "            updated_data.drop(index=idx, inplace=True)\n",
    "\n",
    "        elif event_type in {\"subst\", \"Goal\"}:\n",
    "            # Replace missing `main_player_id` with a generic player ID (0)\n",
    "            updated_data.at[idx, 'main_player_id'] = 0\n",
    "\n",
    "# Reset the index of the updated DataFrame after dropping rows\n",
    "updated_data.reset_index(drop=True, inplace=True)\n",
    "\n",
    "# Verify the results\n",
    "print(\"Processing complete. Updated DataFrame:\")\n",
    "print(updated_data.head())\n",
    "\n",
    "# Filter rows where `main_player_id` is missing\n",
    "missing_main_player = updated_data[updated_data['main_player_id'].isna() | (updated_data['main_player_id'] == '')]\n",
    "\n",
    "# Count the missing occurrences for each `event_type`\n",
    "missing_counts = missing_main_player['event_type'].value_counts()\n",
    "print(\"Missing main player value counts by `event_type`:\")\n",
    "print(missing_counts)\n"
   ],
   "id": "6ce62d6642b4fcaf",
   "outputs": [
    {
     "name": "stdout",
     "output_type": "stream",
     "text": [
      "Missing value counts by `event_type`:\n",
      "event_type\n",
      "Possession         63990\n",
      "FormationChange     6973\n",
      "FormationSet        2998\n",
      "Card                  92\n",
      "subst                 11\n",
      "Goal                   1\n",
      "Name: count, dtype: int64\n",
      "Processing complete. Updated DataFrame:\n",
      "   fixture_id event_time  team_id event_type   detailed_type  main_player_id  \\\n",
      "0     1208127         20       40       Goal     Normal Goal         51617.0   \n",
      "1     1208127         25       40      subst  Substitution 1        180317.0   \n",
      "2     1208127         34       66       Card     Yellow Card         19170.0   \n",
      "3     1208127         45       66      subst  Substitution 1         19191.0   \n",
      "4     1208127         45       66       Card     Yellow Card          2926.0   \n",
      "\n",
      "   secondary_player_id  \n",
      "0                306.0  \n",
      "1                283.0  \n",
      "2                  NaN  \n",
      "3              19192.0  \n",
      "4                  NaN  \n",
      "Missing main player value counts by `event_type`:\n",
      "event_type\n",
      "Possession         63990\n",
      "FormationChange     6973\n",
      "FormationSet        2998\n",
      "Name: count, dtype: int64\n"
     ]
    }
   ],
   "execution_count": 41
  },
  {
   "metadata": {
    "ExecuteTime": {
     "end_time": "2024-12-08T22:04:24.301699Z",
     "start_time": "2024-12-08T22:04:24.192852Z"
    }
   },
   "cell_type": "code",
   "source": [
    "# Function to process the `event_time` column\n",
    "def process_event_time(value):\n",
    "    try:\n",
    "        if value.isdigit():\n",
    "            # If the value is a number as a string, convert it to an integer\n",
    "            return int(value)\n",
    "        # Check if the value is a negative number as a string\n",
    "        elif value.lstrip('-').isdigit():\n",
    "            return int(value)\n",
    "        elif '+' in value:\n",
    "            base, extra = value.split('+')\n",
    "            if base == \"90\":\n",
    "                # For \"90+something\", return the integer sum\n",
    "                return int(base) + int(extra)\n",
    "            elif base == \"45\":\n",
    "                # For \"45+something\", return a float \"45.something\"\n",
    "                return float(f\"{base}.{extra}\")\n",
    "        else:\n",
    "            raise ValueError(f\"Unexpected format: {value}\")\n",
    "    except Exception as e:\n",
    "        print(f\"Error processing value '{value}': {e}\")\n",
    "        return None  # Return None for invalid cases\n",
    "\n",
    "# Apply the function to the `event_time` column in the updated_data DataFrame\n",
    "updated_data['event_time'] = updated_data['event_time'].apply(process_event_time)\n",
    "\n",
    "# Verify the results\n",
    "print(\"Processed DataFrame (updated_data):\")\n",
    "print(updated_data.head())\n",
    "\n",
    "\n",
    "# Count the number of non-integer values in the event_time column\n",
    "non_float_count = updated_data['event_time'].apply(lambda x: not isinstance(x, float)).sum()\n",
    "\n",
    "print(f\"Number of non-float values in the 'event_time' column: {non_float_count}\")\n",
    "\n"
   ],
   "id": "debad72037142beb",
   "outputs": [
    {
     "name": "stdout",
     "output_type": "stream",
     "text": [
      "Processed DataFrame (updated_data):\n",
      "   fixture_id  event_time  team_id event_type   detailed_type  main_player_id  \\\n",
      "0     1208127        20.0       40       Goal     Normal Goal         51617.0   \n",
      "1     1208127        25.0       40      subst  Substitution 1        180317.0   \n",
      "2     1208127        34.0       66       Card     Yellow Card         19170.0   \n",
      "3     1208127        45.0       66      subst  Substitution 1         19191.0   \n",
      "4     1208127        45.0       66       Card     Yellow Card          2926.0   \n",
      "\n",
      "   secondary_player_id  \n",
      "0                306.0  \n",
      "1                283.0  \n",
      "2                  NaN  \n",
      "3              19192.0  \n",
      "4                  NaN  \n",
      "Number of non-float values in the 'event_time' column: 0\n"
     ]
    }
   ],
   "execution_count": 42
  },
  {
   "metadata": {
    "ExecuteTime": {
     "end_time": "2024-12-08T22:04:47.111748Z",
     "start_time": "2024-12-08T22:04:42.256611Z"
    }
   },
   "cell_type": "code",
   "source": [
    "# Create a dictionary to store counts of event types with `event_time < 0`\n",
    "negative_event_time_dict = {}\n",
    "\n",
    "# Iterate over rows where `event_time` is less than 0\n",
    "for idx, row in updated_data.iterrows():\n",
    "    if row['event_time'] < 0:\n",
    "        event_type = row['event_type']\n",
    "        # Increment the count for the event type in the dictionary\n",
    "        if event_type in negative_event_time_dict:\n",
    "            negative_event_time_dict[event_type] += 1\n",
    "        else:\n",
    "            negative_event_time_dict[event_type] = 1\n",
    "\n",
    "# Print the dictionary\n",
    "print(negative_event_time_dict)\n",
    "print(\"Counts of rows with `event_time < 0` by `event_type`:\")\n",
    "for event_type, count in negative_event_time_dict.items():\n",
    "    print(f\"{event_type}: {count}\")\n",
    "\n",
    "\n",
    "# we will drop the rows if the type is card else we will check based on the number of problematic values"
   ],
   "id": "db71a882b9d266dd",
   "outputs": [
    {
     "name": "stdout",
     "output_type": "stream",
     "text": [
      "{'Card': 319}\n",
      "Counts of rows with `event_time < 0` by `event_type`:\n",
      "Card: 319\n"
     ]
    }
   ],
   "execution_count": 44
  }
 ],
 "metadata": {
  "kernelspec": {
   "display_name": "Python 3",
   "language": "python",
   "name": "python3"
  },
  "language_info": {
   "codemirror_mode": {
    "name": "ipython",
    "version": 2
   },
   "file_extension": ".py",
   "mimetype": "text/x-python",
   "name": "python",
   "nbconvert_exporter": "python",
   "pygments_lexer": "ipython2",
   "version": "2.7.6"
  }
 },
 "nbformat": 4,
 "nbformat_minor": 5
}
